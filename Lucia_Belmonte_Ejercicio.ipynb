{
 "cells": [
  {
   "cell_type": "markdown",
   "metadata": {},
   "source": [
    "## Lucía Belmonte Valera\n",
    "\n",
    "#### El siguiente ejercicio propone un dataset con información de todos los jugadores del videojuego FIFA 2019. El objetivo de este ejercicio es realizar un modelo de clustering y visualizar los resultados."
   ]
  },
  {
   "cell_type": "markdown",
   "metadata": {},
   "source": [
    "## ÍNDICE\n",
    "\n",
    "\n",
    "#### Librerías\n",
    "\n",
    "\n",
    "#### 1. Análisis exploratorio de los datos\n",
    "   - 1.1. Dimensiones de las bases de datos\n",
    "   - 1.2. Detección de valores nulos\n",
    "   - 1.3. Unión de las dos bases de datos\n",
    "   - 1.4. Cambio de valores para características categóricas\n",
    "   - 1.5. Análisis de la dispersión de los datos\n",
    "   - 1.6. Eliminar algunas de las columnas\n",
    "\n",
    "\n",
    "#### 2. Selección de características\n",
    "   - 2.1. Correlaciones entre las características\n",
    "   - 2.2. Eliminación de las características altamente correlacionadas ( >= 0.7)\n",
    "   - 2.3 División de la base de datos modificada\n",
    "   - 2.4. Cálculo de la importancia de las características\n",
    "   - 2.5. Selección Univariate de las características\n",
    "   - 2.6. Selección Backward Elimination de las características\n",
    " \n",
    " \n",
    "#### 3. Clustering\n",
    "   - 3.1. Univariate Selection Clustering\n",
    "   - 3.2. Backward Selection Clustering\n",
    "   - 3.3. Selección Random Forest Clustering\n",
    "\n",
    "\n",
    "#### 4. Conclusiones"
   ]
  },
  {
   "cell_type": "markdown",
   "metadata": {},
   "source": [
    "### Librerías"
   ]
  },
  {
   "cell_type": "code",
   "execution_count": 1,
   "metadata": {
    "collapsed": true
   },
   "outputs": [],
   "source": [
    "import pandas as pd\n",
    "import numpy as np\n",
    "from sklearn.cluster import KMeans\n",
    "from matplotlib import pyplot as plt\n",
    "from sklearn.feature_selection import SelectKBest\n",
    "from sklearn.feature_selection import chi2\n",
    "from sklearn.linear_model import LogisticRegression\n",
    "from sklearn.ensemble import RandomForestRegressor\n",
    "from sklearn.ensemble import RandomForestClassifier\n",
    "\n",
    "import statsmodels.api as sm\n",
    "%matplotlib inline\n",
    "from sklearn.model_selection import train_test_split\n",
    "from sklearn.linear_model import LinearRegression\n",
    "from sklearn.feature_selection import RFE\n",
    "from sklearn.linear_model import RidgeCV, LassoCV, Ridge, Lasso"
   ]
  },
  {
   "cell_type": "markdown",
   "metadata": {},
   "source": [
    "### 1. Análisis exploratorio de los datos"
   ]
  },
  {
   "cell_type": "markdown",
   "metadata": {},
   "source": [
    "Clustering es una técnica de análisis exploratorio y no supervisado que tiene el objetivo de mostrar las relaciones existentes entre características que no son evidentes pero que sí pueden ser importantes.\n",
    "\n",
    "Para llevar a cabo esta tarea, primero he explorado los datos disponibles en las dos bases de datos:\n",
    "\n",
    "- La base de datos 'numeric_data' contiene 42 características, mientras que 'categorical data' contiene 6 características.\n",
    "\n",
    "- Ambas bases de datos se relacionan por la columna 'ID' y cuentan con información sobre 14.743 jugadores de fútbol.\n",
    "\n",
    "- Ninguna de las dos bases de datos contiene valores nulos, por lo que no he tenido que \n",
    "realizar ninguna tarea de limpieza ni de imputación con respecto a este tipo de valores.\n",
    "\n",
    "\n",
    "He unido las dos bases de datos con el objetivo de enriquecer los resultados:\n",
    "\n",
    "- He convertido las características “Preferred Foot” y “Work Rate” en variables numéricas para que pudieran ser analizas, a la misma vez que he eliminado las características “ID”, “Name”, “Nationality” y “Club”, ya contenían una gran cantidad de valores categóricos distintos que podrían dificultar la asignación de valores numéricos.\n",
    "\n",
    "- También he querido analizar la dispersión de los datos y he podido comprobar que algunas de las características tienen la presencia de grupos, como la variable 'International Reputation, que indica que la mayoría de los jugadores representados tiene reputación internacional', o la variable 'Salaries', que indica que la mayoría de jugadores tienen sueldos altos.\n",
    "\n"
   ]
  },
  {
   "cell_type": "code",
   "execution_count": 2,
   "metadata": {
    "collapsed": true
   },
   "outputs": [],
   "source": [
    "numeric_data = pd.read_csv(\"numeric_data.csv\", sep=\",\")\n",
    "\n",
    "categorical_data = pd.read_csv(\"categorical_data.csv\", sep=\",\")"
   ]
  },
  {
   "cell_type": "code",
   "execution_count": 3,
   "metadata": {},
   "outputs": [
    {
     "data": {
      "text/html": [
       "<div>\n",
       "<style scoped>\n",
       "    .dataframe tbody tr th:only-of-type {\n",
       "        vertical-align: middle;\n",
       "    }\n",
       "\n",
       "    .dataframe tbody tr th {\n",
       "        vertical-align: top;\n",
       "    }\n",
       "\n",
       "    .dataframe thead th {\n",
       "        text-align: right;\n",
       "    }\n",
       "</style>\n",
       "<table border=\"1\" class=\"dataframe\">\n",
       "  <thead>\n",
       "    <tr style=\"text-align: right;\">\n",
       "      <th></th>\n",
       "      <th>ID</th>\n",
       "      <th>Age</th>\n",
       "      <th>Overall</th>\n",
       "      <th>Potential</th>\n",
       "      <th>Wage</th>\n",
       "      <th>Special</th>\n",
       "      <th>International Reputation</th>\n",
       "      <th>Weight</th>\n",
       "      <th>Crossing</th>\n",
       "      <th>Finishing</th>\n",
       "      <th>...</th>\n",
       "      <th>Penalties</th>\n",
       "      <th>Composure</th>\n",
       "      <th>Marking</th>\n",
       "      <th>StandingTackle</th>\n",
       "      <th>SlidingTackle</th>\n",
       "      <th>GKDiving</th>\n",
       "      <th>GKHandling</th>\n",
       "      <th>GKKicking</th>\n",
       "      <th>GKPositioning</th>\n",
       "      <th>GKReflexes</th>\n",
       "    </tr>\n",
       "  </thead>\n",
       "  <tbody>\n",
       "    <tr>\n",
       "      <th>0</th>\n",
       "      <td>158023</td>\n",
       "      <td>31</td>\n",
       "      <td>94</td>\n",
       "      <td>94</td>\n",
       "      <td>565000000.0</td>\n",
       "      <td>2202</td>\n",
       "      <td>5.0</td>\n",
       "      <td>159</td>\n",
       "      <td>84.0</td>\n",
       "      <td>95.0</td>\n",
       "      <td>...</td>\n",
       "      <td>75.0</td>\n",
       "      <td>96.0</td>\n",
       "      <td>33.0</td>\n",
       "      <td>28.0</td>\n",
       "      <td>26.0</td>\n",
       "      <td>6.0</td>\n",
       "      <td>11.0</td>\n",
       "      <td>15.0</td>\n",
       "      <td>14.0</td>\n",
       "      <td>8.0</td>\n",
       "    </tr>\n",
       "    <tr>\n",
       "      <th>1</th>\n",
       "      <td>20801</td>\n",
       "      <td>33</td>\n",
       "      <td>94</td>\n",
       "      <td>94</td>\n",
       "      <td>405000000.0</td>\n",
       "      <td>2228</td>\n",
       "      <td>5.0</td>\n",
       "      <td>183</td>\n",
       "      <td>84.0</td>\n",
       "      <td>94.0</td>\n",
       "      <td>...</td>\n",
       "      <td>85.0</td>\n",
       "      <td>95.0</td>\n",
       "      <td>28.0</td>\n",
       "      <td>31.0</td>\n",
       "      <td>23.0</td>\n",
       "      <td>7.0</td>\n",
       "      <td>11.0</td>\n",
       "      <td>15.0</td>\n",
       "      <td>14.0</td>\n",
       "      <td>11.0</td>\n",
       "    </tr>\n",
       "    <tr>\n",
       "      <th>2</th>\n",
       "      <td>190871</td>\n",
       "      <td>26</td>\n",
       "      <td>92</td>\n",
       "      <td>93</td>\n",
       "      <td>290000000.0</td>\n",
       "      <td>2143</td>\n",
       "      <td>5.0</td>\n",
       "      <td>150</td>\n",
       "      <td>79.0</td>\n",
       "      <td>87.0</td>\n",
       "      <td>...</td>\n",
       "      <td>81.0</td>\n",
       "      <td>94.0</td>\n",
       "      <td>27.0</td>\n",
       "      <td>24.0</td>\n",
       "      <td>33.0</td>\n",
       "      <td>9.0</td>\n",
       "      <td>9.0</td>\n",
       "      <td>15.0</td>\n",
       "      <td>15.0</td>\n",
       "      <td>11.0</td>\n",
       "    </tr>\n",
       "    <tr>\n",
       "      <th>3</th>\n",
       "      <td>192985</td>\n",
       "      <td>27</td>\n",
       "      <td>91</td>\n",
       "      <td>92</td>\n",
       "      <td>355000000.0</td>\n",
       "      <td>2281</td>\n",
       "      <td>4.0</td>\n",
       "      <td>154</td>\n",
       "      <td>93.0</td>\n",
       "      <td>82.0</td>\n",
       "      <td>...</td>\n",
       "      <td>79.0</td>\n",
       "      <td>88.0</td>\n",
       "      <td>68.0</td>\n",
       "      <td>58.0</td>\n",
       "      <td>51.0</td>\n",
       "      <td>15.0</td>\n",
       "      <td>13.0</td>\n",
       "      <td>5.0</td>\n",
       "      <td>10.0</td>\n",
       "      <td>13.0</td>\n",
       "    </tr>\n",
       "    <tr>\n",
       "      <th>4</th>\n",
       "      <td>183277</td>\n",
       "      <td>27</td>\n",
       "      <td>91</td>\n",
       "      <td>91</td>\n",
       "      <td>340000000.0</td>\n",
       "      <td>2142</td>\n",
       "      <td>4.0</td>\n",
       "      <td>163</td>\n",
       "      <td>81.0</td>\n",
       "      <td>84.0</td>\n",
       "      <td>...</td>\n",
       "      <td>86.0</td>\n",
       "      <td>91.0</td>\n",
       "      <td>34.0</td>\n",
       "      <td>27.0</td>\n",
       "      <td>22.0</td>\n",
       "      <td>11.0</td>\n",
       "      <td>12.0</td>\n",
       "      <td>6.0</td>\n",
       "      <td>8.0</td>\n",
       "      <td>8.0</td>\n",
       "    </tr>\n",
       "  </tbody>\n",
       "</table>\n",
       "<p>5 rows × 42 columns</p>\n",
       "</div>"
      ],
      "text/plain": [
       "       ID  Age  Overall  Potential         Wage  Special  \\\n",
       "0  158023   31       94         94  565000000.0     2202   \n",
       "1   20801   33       94         94  405000000.0     2228   \n",
       "2  190871   26       92         93  290000000.0     2143   \n",
       "3  192985   27       91         92  355000000.0     2281   \n",
       "4  183277   27       91         91  340000000.0     2142   \n",
       "\n",
       "   International Reputation  Weight  Crossing  Finishing  ...  Penalties  \\\n",
       "0                       5.0     159      84.0       95.0  ...       75.0   \n",
       "1                       5.0     183      84.0       94.0  ...       85.0   \n",
       "2                       5.0     150      79.0       87.0  ...       81.0   \n",
       "3                       4.0     154      93.0       82.0  ...       79.0   \n",
       "4                       4.0     163      81.0       84.0  ...       86.0   \n",
       "\n",
       "   Composure  Marking  StandingTackle  SlidingTackle  GKDiving  GKHandling  \\\n",
       "0       96.0     33.0            28.0           26.0       6.0        11.0   \n",
       "1       95.0     28.0            31.0           23.0       7.0        11.0   \n",
       "2       94.0     27.0            24.0           33.0       9.0         9.0   \n",
       "3       88.0     68.0            58.0           51.0      15.0        13.0   \n",
       "4       91.0     34.0            27.0           22.0      11.0        12.0   \n",
       "\n",
       "   GKKicking  GKPositioning  GKReflexes  \n",
       "0       15.0           14.0         8.0  \n",
       "1       15.0           14.0        11.0  \n",
       "2       15.0           15.0        11.0  \n",
       "3        5.0           10.0        13.0  \n",
       "4        6.0            8.0         8.0  \n",
       "\n",
       "[5 rows x 42 columns]"
      ]
     },
     "execution_count": 3,
     "metadata": {},
     "output_type": "execute_result"
    }
   ],
   "source": [
    "numeric_data.head()"
   ]
  },
  {
   "cell_type": "code",
   "execution_count": 4,
   "metadata": {
    "scrolled": true
   },
   "outputs": [
    {
     "data": {
      "text/html": [
       "<div>\n",
       "<style scoped>\n",
       "    .dataframe tbody tr th:only-of-type {\n",
       "        vertical-align: middle;\n",
       "    }\n",
       "\n",
       "    .dataframe tbody tr th {\n",
       "        vertical-align: top;\n",
       "    }\n",
       "\n",
       "    .dataframe thead th {\n",
       "        text-align: right;\n",
       "    }\n",
       "</style>\n",
       "<table border=\"1\" class=\"dataframe\">\n",
       "  <thead>\n",
       "    <tr style=\"text-align: right;\">\n",
       "      <th></th>\n",
       "      <th>ID</th>\n",
       "      <th>Name</th>\n",
       "      <th>Nationality</th>\n",
       "      <th>Club</th>\n",
       "      <th>Preferred Foot</th>\n",
       "      <th>Work Rate</th>\n",
       "    </tr>\n",
       "  </thead>\n",
       "  <tbody>\n",
       "    <tr>\n",
       "      <th>0</th>\n",
       "      <td>158023</td>\n",
       "      <td>L. Messi</td>\n",
       "      <td>Argentina</td>\n",
       "      <td>FC Barcelona</td>\n",
       "      <td>Left</td>\n",
       "      <td>Medium/ Medium</td>\n",
       "    </tr>\n",
       "    <tr>\n",
       "      <th>1</th>\n",
       "      <td>20801</td>\n",
       "      <td>Cristiano Ronaldo</td>\n",
       "      <td>Portugal</td>\n",
       "      <td>Juventus</td>\n",
       "      <td>Right</td>\n",
       "      <td>High/ Low</td>\n",
       "    </tr>\n",
       "    <tr>\n",
       "      <th>2</th>\n",
       "      <td>190871</td>\n",
       "      <td>Neymar Jr</td>\n",
       "      <td>Brazil</td>\n",
       "      <td>Paris Saint-Germain</td>\n",
       "      <td>Right</td>\n",
       "      <td>High/ Medium</td>\n",
       "    </tr>\n",
       "    <tr>\n",
       "      <th>3</th>\n",
       "      <td>192985</td>\n",
       "      <td>K. De Bruyne</td>\n",
       "      <td>Belgium</td>\n",
       "      <td>Manchester City</td>\n",
       "      <td>Right</td>\n",
       "      <td>High/ High</td>\n",
       "    </tr>\n",
       "    <tr>\n",
       "      <th>4</th>\n",
       "      <td>183277</td>\n",
       "      <td>E. Hazard</td>\n",
       "      <td>Belgium</td>\n",
       "      <td>Chelsea</td>\n",
       "      <td>Right</td>\n",
       "      <td>High/ Medium</td>\n",
       "    </tr>\n",
       "  </tbody>\n",
       "</table>\n",
       "</div>"
      ],
      "text/plain": [
       "       ID               Name Nationality                 Club Preferred Foot  \\\n",
       "0  158023           L. Messi   Argentina         FC Barcelona           Left   \n",
       "1   20801  Cristiano Ronaldo    Portugal             Juventus          Right   \n",
       "2  190871          Neymar Jr      Brazil  Paris Saint-Germain          Right   \n",
       "3  192985       K. De Bruyne     Belgium      Manchester City          Right   \n",
       "4  183277          E. Hazard     Belgium              Chelsea          Right   \n",
       "\n",
       "        Work Rate  \n",
       "0  Medium/ Medium  \n",
       "1       High/ Low  \n",
       "2    High/ Medium  \n",
       "3      High/ High  \n",
       "4    High/ Medium  "
      ]
     },
     "execution_count": 4,
     "metadata": {},
     "output_type": "execute_result"
    }
   ],
   "source": [
    "categorical_data.head()"
   ]
  },
  {
   "cell_type": "markdown",
   "metadata": {},
   "source": [
    "#### 1.1. Dimensiones de las bases de datos"
   ]
  },
  {
   "cell_type": "code",
   "execution_count": 5,
   "metadata": {},
   "outputs": [
    {
     "data": {
      "text/plain": [
       "(14743, 42)"
      ]
     },
     "execution_count": 5,
     "metadata": {},
     "output_type": "execute_result"
    }
   ],
   "source": [
    "numeric_data.shape"
   ]
  },
  {
   "cell_type": "code",
   "execution_count": 6,
   "metadata": {},
   "outputs": [
    {
     "data": {
      "text/plain": [
       "(14743, 6)"
      ]
     },
     "execution_count": 6,
     "metadata": {},
     "output_type": "execute_result"
    }
   ],
   "source": [
    "categorical_data.shape"
   ]
  },
  {
   "cell_type": "markdown",
   "metadata": {},
   "source": [
    "#### 1.2. Detección de valores nulos"
   ]
  },
  {
   "cell_type": "code",
   "execution_count": 7,
   "metadata": {},
   "outputs": [
    {
     "data": {
      "text/plain": [
       "ID                          0\n",
       "Age                         0\n",
       "Overall                     0\n",
       "Potential                   0\n",
       "Wage                        0\n",
       "Special                     0\n",
       "International Reputation    0\n",
       "Weight                      0\n",
       "Crossing                    0\n",
       "Finishing                   0\n",
       "HeadingAccuracy             0\n",
       "ShortPassing                0\n",
       "Volleys                     0\n",
       "Dribbling                   0\n",
       "Curve                       0\n",
       "FKAccuracy                  0\n",
       "LongPassing                 0\n",
       "BallControl                 0\n",
       "Acceleration                0\n",
       "SprintSpeed                 0\n",
       "Agility                     0\n",
       "Reactions                   0\n",
       "Balance                     0\n",
       "ShotPower                   0\n",
       "Jumping                     0\n",
       "Stamina                     0\n",
       "Strength                    0\n",
       "LongShots                   0\n",
       "Aggression                  0\n",
       "Interceptions               0\n",
       "Positioning                 0\n",
       "Vision                      0\n",
       "Penalties                   0\n",
       "Composure                   0\n",
       "Marking                     0\n",
       "StandingTackle              0\n",
       "SlidingTackle               0\n",
       "GKDiving                    0\n",
       "GKHandling                  0\n",
       "GKKicking                   0\n",
       "GKPositioning               0\n",
       "GKReflexes                  0\n",
       "dtype: int64"
      ]
     },
     "execution_count": 7,
     "metadata": {},
     "output_type": "execute_result"
    }
   ],
   "source": [
    "missing_values_numeric_data = (numeric_data.isnull().sum())\n",
    "\n",
    "missing_values_numeric_data"
   ]
  },
  {
   "cell_type": "code",
   "execution_count": 8,
   "metadata": {},
   "outputs": [
    {
     "data": {
      "text/plain": [
       "ID                0\n",
       "Name              0\n",
       "Nationality       0\n",
       "Club              0\n",
       "Preferred Foot    0\n",
       "Work Rate         0\n",
       "dtype: int64"
      ]
     },
     "execution_count": 8,
     "metadata": {},
     "output_type": "execute_result"
    }
   ],
   "source": [
    "missing_values_categorical_data = (categorical_data.isnull().sum())\n",
    "\n",
    "missing_values_categorical_data"
   ]
  },
  {
   "cell_type": "markdown",
   "metadata": {},
   "source": [
    "#### 1.3. Unión de las dos bases de datos"
   ]
  },
  {
   "cell_type": "code",
   "execution_count": 9,
   "metadata": {
    "collapsed": true
   },
   "outputs": [],
   "source": [
    "full_dataset = pd.merge(numeric_data, categorical_data, on='ID', how='left')"
   ]
  },
  {
   "cell_type": "code",
   "execution_count": 10,
   "metadata": {},
   "outputs": [
    {
     "data": {
      "text/html": [
       "<div>\n",
       "<style scoped>\n",
       "    .dataframe tbody tr th:only-of-type {\n",
       "        vertical-align: middle;\n",
       "    }\n",
       "\n",
       "    .dataframe tbody tr th {\n",
       "        vertical-align: top;\n",
       "    }\n",
       "\n",
       "    .dataframe thead th {\n",
       "        text-align: right;\n",
       "    }\n",
       "</style>\n",
       "<table border=\"1\" class=\"dataframe\">\n",
       "  <thead>\n",
       "    <tr style=\"text-align: right;\">\n",
       "      <th></th>\n",
       "      <th>ID</th>\n",
       "      <th>Age</th>\n",
       "      <th>Overall</th>\n",
       "      <th>Potential</th>\n",
       "      <th>Wage</th>\n",
       "      <th>Special</th>\n",
       "      <th>International Reputation</th>\n",
       "      <th>Weight</th>\n",
       "      <th>Crossing</th>\n",
       "      <th>Finishing</th>\n",
       "      <th>...</th>\n",
       "      <th>GKDiving</th>\n",
       "      <th>GKHandling</th>\n",
       "      <th>GKKicking</th>\n",
       "      <th>GKPositioning</th>\n",
       "      <th>GKReflexes</th>\n",
       "      <th>Name</th>\n",
       "      <th>Nationality</th>\n",
       "      <th>Club</th>\n",
       "      <th>Preferred Foot</th>\n",
       "      <th>Work Rate</th>\n",
       "    </tr>\n",
       "  </thead>\n",
       "  <tbody>\n",
       "    <tr>\n",
       "      <th>0</th>\n",
       "      <td>158023</td>\n",
       "      <td>31</td>\n",
       "      <td>94</td>\n",
       "      <td>94</td>\n",
       "      <td>565000000.0</td>\n",
       "      <td>2202</td>\n",
       "      <td>5.0</td>\n",
       "      <td>159</td>\n",
       "      <td>84.0</td>\n",
       "      <td>95.0</td>\n",
       "      <td>...</td>\n",
       "      <td>6.0</td>\n",
       "      <td>11.0</td>\n",
       "      <td>15.0</td>\n",
       "      <td>14.0</td>\n",
       "      <td>8.0</td>\n",
       "      <td>L. Messi</td>\n",
       "      <td>Argentina</td>\n",
       "      <td>FC Barcelona</td>\n",
       "      <td>Left</td>\n",
       "      <td>Medium/ Medium</td>\n",
       "    </tr>\n",
       "    <tr>\n",
       "      <th>1</th>\n",
       "      <td>20801</td>\n",
       "      <td>33</td>\n",
       "      <td>94</td>\n",
       "      <td>94</td>\n",
       "      <td>405000000.0</td>\n",
       "      <td>2228</td>\n",
       "      <td>5.0</td>\n",
       "      <td>183</td>\n",
       "      <td>84.0</td>\n",
       "      <td>94.0</td>\n",
       "      <td>...</td>\n",
       "      <td>7.0</td>\n",
       "      <td>11.0</td>\n",
       "      <td>15.0</td>\n",
       "      <td>14.0</td>\n",
       "      <td>11.0</td>\n",
       "      <td>Cristiano Ronaldo</td>\n",
       "      <td>Portugal</td>\n",
       "      <td>Juventus</td>\n",
       "      <td>Right</td>\n",
       "      <td>High/ Low</td>\n",
       "    </tr>\n",
       "    <tr>\n",
       "      <th>2</th>\n",
       "      <td>190871</td>\n",
       "      <td>26</td>\n",
       "      <td>92</td>\n",
       "      <td>93</td>\n",
       "      <td>290000000.0</td>\n",
       "      <td>2143</td>\n",
       "      <td>5.0</td>\n",
       "      <td>150</td>\n",
       "      <td>79.0</td>\n",
       "      <td>87.0</td>\n",
       "      <td>...</td>\n",
       "      <td>9.0</td>\n",
       "      <td>9.0</td>\n",
       "      <td>15.0</td>\n",
       "      <td>15.0</td>\n",
       "      <td>11.0</td>\n",
       "      <td>Neymar Jr</td>\n",
       "      <td>Brazil</td>\n",
       "      <td>Paris Saint-Germain</td>\n",
       "      <td>Right</td>\n",
       "      <td>High/ Medium</td>\n",
       "    </tr>\n",
       "    <tr>\n",
       "      <th>3</th>\n",
       "      <td>192985</td>\n",
       "      <td>27</td>\n",
       "      <td>91</td>\n",
       "      <td>92</td>\n",
       "      <td>355000000.0</td>\n",
       "      <td>2281</td>\n",
       "      <td>4.0</td>\n",
       "      <td>154</td>\n",
       "      <td>93.0</td>\n",
       "      <td>82.0</td>\n",
       "      <td>...</td>\n",
       "      <td>15.0</td>\n",
       "      <td>13.0</td>\n",
       "      <td>5.0</td>\n",
       "      <td>10.0</td>\n",
       "      <td>13.0</td>\n",
       "      <td>K. De Bruyne</td>\n",
       "      <td>Belgium</td>\n",
       "      <td>Manchester City</td>\n",
       "      <td>Right</td>\n",
       "      <td>High/ High</td>\n",
       "    </tr>\n",
       "    <tr>\n",
       "      <th>4</th>\n",
       "      <td>183277</td>\n",
       "      <td>27</td>\n",
       "      <td>91</td>\n",
       "      <td>91</td>\n",
       "      <td>340000000.0</td>\n",
       "      <td>2142</td>\n",
       "      <td>4.0</td>\n",
       "      <td>163</td>\n",
       "      <td>81.0</td>\n",
       "      <td>84.0</td>\n",
       "      <td>...</td>\n",
       "      <td>11.0</td>\n",
       "      <td>12.0</td>\n",
       "      <td>6.0</td>\n",
       "      <td>8.0</td>\n",
       "      <td>8.0</td>\n",
       "      <td>E. Hazard</td>\n",
       "      <td>Belgium</td>\n",
       "      <td>Chelsea</td>\n",
       "      <td>Right</td>\n",
       "      <td>High/ Medium</td>\n",
       "    </tr>\n",
       "    <tr>\n",
       "      <th>...</th>\n",
       "      <td>...</td>\n",
       "      <td>...</td>\n",
       "      <td>...</td>\n",
       "      <td>...</td>\n",
       "      <td>...</td>\n",
       "      <td>...</td>\n",
       "      <td>...</td>\n",
       "      <td>...</td>\n",
       "      <td>...</td>\n",
       "      <td>...</td>\n",
       "      <td>...</td>\n",
       "      <td>...</td>\n",
       "      <td>...</td>\n",
       "      <td>...</td>\n",
       "      <td>...</td>\n",
       "      <td>...</td>\n",
       "      <td>...</td>\n",
       "      <td>...</td>\n",
       "      <td>...</td>\n",
       "      <td>...</td>\n",
       "      <td>...</td>\n",
       "    </tr>\n",
       "    <tr>\n",
       "      <th>14738</th>\n",
       "      <td>238813</td>\n",
       "      <td>19</td>\n",
       "      <td>47</td>\n",
       "      <td>65</td>\n",
       "      <td>1000000.0</td>\n",
       "      <td>1307</td>\n",
       "      <td>1.0</td>\n",
       "      <td>134</td>\n",
       "      <td>34.0</td>\n",
       "      <td>38.0</td>\n",
       "      <td>...</td>\n",
       "      <td>10.0</td>\n",
       "      <td>13.0</td>\n",
       "      <td>7.0</td>\n",
       "      <td>8.0</td>\n",
       "      <td>9.0</td>\n",
       "      <td>J. Lundstram</td>\n",
       "      <td>England</td>\n",
       "      <td>Crewe Alexandra</td>\n",
       "      <td>Right</td>\n",
       "      <td>Medium/ Medium</td>\n",
       "    </tr>\n",
       "    <tr>\n",
       "      <th>14739</th>\n",
       "      <td>243165</td>\n",
       "      <td>19</td>\n",
       "      <td>47</td>\n",
       "      <td>63</td>\n",
       "      <td>1000000.0</td>\n",
       "      <td>1098</td>\n",
       "      <td>1.0</td>\n",
       "      <td>170</td>\n",
       "      <td>23.0</td>\n",
       "      <td>52.0</td>\n",
       "      <td>...</td>\n",
       "      <td>10.0</td>\n",
       "      <td>9.0</td>\n",
       "      <td>9.0</td>\n",
       "      <td>5.0</td>\n",
       "      <td>12.0</td>\n",
       "      <td>N. Christoffersson</td>\n",
       "      <td>Sweden</td>\n",
       "      <td>Trelleborgs FF</td>\n",
       "      <td>Right</td>\n",
       "      <td>Medium/ Medium</td>\n",
       "    </tr>\n",
       "    <tr>\n",
       "      <th>14740</th>\n",
       "      <td>241638</td>\n",
       "      <td>16</td>\n",
       "      <td>47</td>\n",
       "      <td>67</td>\n",
       "      <td>1000000.0</td>\n",
       "      <td>1189</td>\n",
       "      <td>1.0</td>\n",
       "      <td>148</td>\n",
       "      <td>25.0</td>\n",
       "      <td>40.0</td>\n",
       "      <td>...</td>\n",
       "      <td>6.0</td>\n",
       "      <td>5.0</td>\n",
       "      <td>10.0</td>\n",
       "      <td>6.0</td>\n",
       "      <td>13.0</td>\n",
       "      <td>B. Worman</td>\n",
       "      <td>England</td>\n",
       "      <td>Cambridge United</td>\n",
       "      <td>Right</td>\n",
       "      <td>Medium/ Medium</td>\n",
       "    </tr>\n",
       "    <tr>\n",
       "      <th>14741</th>\n",
       "      <td>246268</td>\n",
       "      <td>17</td>\n",
       "      <td>47</td>\n",
       "      <td>66</td>\n",
       "      <td>1000000.0</td>\n",
       "      <td>1228</td>\n",
       "      <td>1.0</td>\n",
       "      <td>154</td>\n",
       "      <td>44.0</td>\n",
       "      <td>50.0</td>\n",
       "      <td>...</td>\n",
       "      <td>14.0</td>\n",
       "      <td>6.0</td>\n",
       "      <td>14.0</td>\n",
       "      <td>8.0</td>\n",
       "      <td>9.0</td>\n",
       "      <td>D. Walker-Rice</td>\n",
       "      <td>England</td>\n",
       "      <td>Tranmere Rovers</td>\n",
       "      <td>Right</td>\n",
       "      <td>Medium/ Medium</td>\n",
       "    </tr>\n",
       "    <tr>\n",
       "      <th>14742</th>\n",
       "      <td>246269</td>\n",
       "      <td>16</td>\n",
       "      <td>46</td>\n",
       "      <td>66</td>\n",
       "      <td>1000000.0</td>\n",
       "      <td>1321</td>\n",
       "      <td>1.0</td>\n",
       "      <td>176</td>\n",
       "      <td>41.0</td>\n",
       "      <td>34.0</td>\n",
       "      <td>...</td>\n",
       "      <td>10.0</td>\n",
       "      <td>15.0</td>\n",
       "      <td>9.0</td>\n",
       "      <td>12.0</td>\n",
       "      <td>9.0</td>\n",
       "      <td>G. Nugent</td>\n",
       "      <td>England</td>\n",
       "      <td>Tranmere Rovers</td>\n",
       "      <td>Right</td>\n",
       "      <td>Medium/ Medium</td>\n",
       "    </tr>\n",
       "  </tbody>\n",
       "</table>\n",
       "<p>14743 rows × 47 columns</p>\n",
       "</div>"
      ],
      "text/plain": [
       "           ID  Age  Overall  Potential         Wage  Special  \\\n",
       "0      158023   31       94         94  565000000.0     2202   \n",
       "1       20801   33       94         94  405000000.0     2228   \n",
       "2      190871   26       92         93  290000000.0     2143   \n",
       "3      192985   27       91         92  355000000.0     2281   \n",
       "4      183277   27       91         91  340000000.0     2142   \n",
       "...       ...  ...      ...        ...          ...      ...   \n",
       "14738  238813   19       47         65    1000000.0     1307   \n",
       "14739  243165   19       47         63    1000000.0     1098   \n",
       "14740  241638   16       47         67    1000000.0     1189   \n",
       "14741  246268   17       47         66    1000000.0     1228   \n",
       "14742  246269   16       46         66    1000000.0     1321   \n",
       "\n",
       "       International Reputation  Weight  Crossing  Finishing  ...  GKDiving  \\\n",
       "0                           5.0     159      84.0       95.0  ...       6.0   \n",
       "1                           5.0     183      84.0       94.0  ...       7.0   \n",
       "2                           5.0     150      79.0       87.0  ...       9.0   \n",
       "3                           4.0     154      93.0       82.0  ...      15.0   \n",
       "4                           4.0     163      81.0       84.0  ...      11.0   \n",
       "...                         ...     ...       ...        ...  ...       ...   \n",
       "14738                       1.0     134      34.0       38.0  ...      10.0   \n",
       "14739                       1.0     170      23.0       52.0  ...      10.0   \n",
       "14740                       1.0     148      25.0       40.0  ...       6.0   \n",
       "14741                       1.0     154      44.0       50.0  ...      14.0   \n",
       "14742                       1.0     176      41.0       34.0  ...      10.0   \n",
       "\n",
       "       GKHandling  GKKicking  GKPositioning  GKReflexes                Name  \\\n",
       "0            11.0       15.0           14.0         8.0            L. Messi   \n",
       "1            11.0       15.0           14.0        11.0   Cristiano Ronaldo   \n",
       "2             9.0       15.0           15.0        11.0           Neymar Jr   \n",
       "3            13.0        5.0           10.0        13.0        K. De Bruyne   \n",
       "4            12.0        6.0            8.0         8.0           E. Hazard   \n",
       "...           ...        ...            ...         ...                 ...   \n",
       "14738        13.0        7.0            8.0         9.0        J. Lundstram   \n",
       "14739         9.0        9.0            5.0        12.0  N. Christoffersson   \n",
       "14740         5.0       10.0            6.0        13.0           B. Worman   \n",
       "14741         6.0       14.0            8.0         9.0      D. Walker-Rice   \n",
       "14742        15.0        9.0           12.0         9.0           G. Nugent   \n",
       "\n",
       "       Nationality                 Club  Preferred Foot       Work Rate  \n",
       "0        Argentina         FC Barcelona            Left  Medium/ Medium  \n",
       "1         Portugal             Juventus           Right       High/ Low  \n",
       "2           Brazil  Paris Saint-Germain           Right    High/ Medium  \n",
       "3          Belgium      Manchester City           Right      High/ High  \n",
       "4          Belgium              Chelsea           Right    High/ Medium  \n",
       "...            ...                  ...             ...             ...  \n",
       "14738      England      Crewe Alexandra           Right  Medium/ Medium  \n",
       "14739       Sweden       Trelleborgs FF           Right  Medium/ Medium  \n",
       "14740      England     Cambridge United           Right  Medium/ Medium  \n",
       "14741      England      Tranmere Rovers           Right  Medium/ Medium  \n",
       "14742      England      Tranmere Rovers           Right  Medium/ Medium  \n",
       "\n",
       "[14743 rows x 47 columns]"
      ]
     },
     "execution_count": 10,
     "metadata": {},
     "output_type": "execute_result"
    }
   ],
   "source": [
    "full_dataset"
   ]
  },
  {
   "cell_type": "code",
   "execution_count": 11,
   "metadata": {},
   "outputs": [
    {
     "data": {
      "text/plain": [
       "England      1320\n",
       "Germany       993\n",
       "Spain         866\n",
       "France        757\n",
       "Argentina     741\n",
       "             ... \n",
       "Nicaragua       1\n",
       "Liberia         1\n",
       "Grenada         1\n",
       "Ethiopia        1\n",
       "Mauritius       1\n",
       "Name: Nationality, Length: 160, dtype: int64"
      ]
     },
     "execution_count": 11,
     "metadata": {},
     "output_type": "execute_result"
    }
   ],
   "source": [
    "full_dataset[\"Nationality\"].value_counts()"
   ]
  },
  {
   "cell_type": "code",
   "execution_count": 12,
   "metadata": {},
   "outputs": [
    {
     "data": {
      "text/plain": [
       "West Ham United      30\n",
       "Liverpool            30\n",
       "Atlético Madrid      30\n",
       "Arsenal              30\n",
       "Manchester United    30\n",
       "                     ..\n",
       "Benevento            16\n",
       "Derry City           15\n",
       "Carlisle United      15\n",
       "Perugia              14\n",
       "Sangju Sangmu FC     12\n",
       "Name: Club, Length: 651, dtype: int64"
      ]
     },
     "execution_count": 12,
     "metadata": {},
     "output_type": "execute_result"
    }
   ],
   "source": [
    "full_dataset[\"Club\"].value_counts()"
   ]
  },
  {
   "cell_type": "code",
   "execution_count": 13,
   "metadata": {},
   "outputs": [
    {
     "data": {
      "text/plain": [
       "Right    11116\n",
       "Left      3627\n",
       "Name: Preferred Foot, dtype: int64"
      ]
     },
     "execution_count": 13,
     "metadata": {},
     "output_type": "execute_result"
    }
   ],
   "source": [
    "full_dataset[\"Preferred Foot\"].value_counts()"
   ]
  },
  {
   "cell_type": "code",
   "execution_count": 14,
   "metadata": {},
   "outputs": [
    {
     "data": {
      "text/plain": [
       "Medium/ Medium    7119\n",
       "High/ Medium      2886\n",
       "Medium/ High      1572\n",
       "High/ High         931\n",
       "Medium/ Low        769\n",
       "High/ Low          621\n",
       "Low/ Medium        413\n",
       "Low/ High          404\n",
       "Low/ Low            28\n",
       "Name: Work Rate, dtype: int64"
      ]
     },
     "execution_count": 14,
     "metadata": {},
     "output_type": "execute_result"
    }
   ],
   "source": [
    "full_dataset[\"Work Rate\"].value_counts()"
   ]
  },
  {
   "cell_type": "markdown",
   "metadata": {},
   "source": [
    "#### 1.4. Cambio de valores para características categóricas"
   ]
  },
  {
   "cell_type": "code",
   "execution_count": 15,
   "metadata": {
    "collapsed": true
   },
   "outputs": [],
   "source": [
    "cleanup_nums = {\"Preferred Foot\":     {\"Right\": 1, \"Left\": 2},\n",
    "                \"Work Rate\": {\"Medium/ Medium\": 1, \"High/ Medium\": 2, \"Medium/ High\": 3, \"High/ High\": 4,\n",
    "                                  \"Medium/ Low\": 5, \"High/ Low\": 6, \"Low/ Medium\": 7, \"Low/ High\": 8, \"Low/ Low\": 9 }}"
   ]
  },
  {
   "cell_type": "code",
   "execution_count": 16,
   "metadata": {},
   "outputs": [
    {
     "data": {
      "text/html": [
       "<div>\n",
       "<style scoped>\n",
       "    .dataframe tbody tr th:only-of-type {\n",
       "        vertical-align: middle;\n",
       "    }\n",
       "\n",
       "    .dataframe tbody tr th {\n",
       "        vertical-align: top;\n",
       "    }\n",
       "\n",
       "    .dataframe thead th {\n",
       "        text-align: right;\n",
       "    }\n",
       "</style>\n",
       "<table border=\"1\" class=\"dataframe\">\n",
       "  <thead>\n",
       "    <tr style=\"text-align: right;\">\n",
       "      <th></th>\n",
       "      <th>ID</th>\n",
       "      <th>Age</th>\n",
       "      <th>Overall</th>\n",
       "      <th>Potential</th>\n",
       "      <th>Wage</th>\n",
       "      <th>Special</th>\n",
       "      <th>International Reputation</th>\n",
       "      <th>Weight</th>\n",
       "      <th>Crossing</th>\n",
       "      <th>Finishing</th>\n",
       "      <th>...</th>\n",
       "      <th>GKDiving</th>\n",
       "      <th>GKHandling</th>\n",
       "      <th>GKKicking</th>\n",
       "      <th>GKPositioning</th>\n",
       "      <th>GKReflexes</th>\n",
       "      <th>Name</th>\n",
       "      <th>Nationality</th>\n",
       "      <th>Club</th>\n",
       "      <th>Preferred Foot</th>\n",
       "      <th>Work Rate</th>\n",
       "    </tr>\n",
       "  </thead>\n",
       "  <tbody>\n",
       "    <tr>\n",
       "      <th>0</th>\n",
       "      <td>158023</td>\n",
       "      <td>31</td>\n",
       "      <td>94</td>\n",
       "      <td>94</td>\n",
       "      <td>565000000.0</td>\n",
       "      <td>2202</td>\n",
       "      <td>5.0</td>\n",
       "      <td>159</td>\n",
       "      <td>84.0</td>\n",
       "      <td>95.0</td>\n",
       "      <td>...</td>\n",
       "      <td>6.0</td>\n",
       "      <td>11.0</td>\n",
       "      <td>15.0</td>\n",
       "      <td>14.0</td>\n",
       "      <td>8.0</td>\n",
       "      <td>L. Messi</td>\n",
       "      <td>Argentina</td>\n",
       "      <td>FC Barcelona</td>\n",
       "      <td>2</td>\n",
       "      <td>1</td>\n",
       "    </tr>\n",
       "    <tr>\n",
       "      <th>1</th>\n",
       "      <td>20801</td>\n",
       "      <td>33</td>\n",
       "      <td>94</td>\n",
       "      <td>94</td>\n",
       "      <td>405000000.0</td>\n",
       "      <td>2228</td>\n",
       "      <td>5.0</td>\n",
       "      <td>183</td>\n",
       "      <td>84.0</td>\n",
       "      <td>94.0</td>\n",
       "      <td>...</td>\n",
       "      <td>7.0</td>\n",
       "      <td>11.0</td>\n",
       "      <td>15.0</td>\n",
       "      <td>14.0</td>\n",
       "      <td>11.0</td>\n",
       "      <td>Cristiano Ronaldo</td>\n",
       "      <td>Portugal</td>\n",
       "      <td>Juventus</td>\n",
       "      <td>1</td>\n",
       "      <td>6</td>\n",
       "    </tr>\n",
       "    <tr>\n",
       "      <th>2</th>\n",
       "      <td>190871</td>\n",
       "      <td>26</td>\n",
       "      <td>92</td>\n",
       "      <td>93</td>\n",
       "      <td>290000000.0</td>\n",
       "      <td>2143</td>\n",
       "      <td>5.0</td>\n",
       "      <td>150</td>\n",
       "      <td>79.0</td>\n",
       "      <td>87.0</td>\n",
       "      <td>...</td>\n",
       "      <td>9.0</td>\n",
       "      <td>9.0</td>\n",
       "      <td>15.0</td>\n",
       "      <td>15.0</td>\n",
       "      <td>11.0</td>\n",
       "      <td>Neymar Jr</td>\n",
       "      <td>Brazil</td>\n",
       "      <td>Paris Saint-Germain</td>\n",
       "      <td>1</td>\n",
       "      <td>2</td>\n",
       "    </tr>\n",
       "    <tr>\n",
       "      <th>3</th>\n",
       "      <td>192985</td>\n",
       "      <td>27</td>\n",
       "      <td>91</td>\n",
       "      <td>92</td>\n",
       "      <td>355000000.0</td>\n",
       "      <td>2281</td>\n",
       "      <td>4.0</td>\n",
       "      <td>154</td>\n",
       "      <td>93.0</td>\n",
       "      <td>82.0</td>\n",
       "      <td>...</td>\n",
       "      <td>15.0</td>\n",
       "      <td>13.0</td>\n",
       "      <td>5.0</td>\n",
       "      <td>10.0</td>\n",
       "      <td>13.0</td>\n",
       "      <td>K. De Bruyne</td>\n",
       "      <td>Belgium</td>\n",
       "      <td>Manchester City</td>\n",
       "      <td>1</td>\n",
       "      <td>4</td>\n",
       "    </tr>\n",
       "    <tr>\n",
       "      <th>4</th>\n",
       "      <td>183277</td>\n",
       "      <td>27</td>\n",
       "      <td>91</td>\n",
       "      <td>91</td>\n",
       "      <td>340000000.0</td>\n",
       "      <td>2142</td>\n",
       "      <td>4.0</td>\n",
       "      <td>163</td>\n",
       "      <td>81.0</td>\n",
       "      <td>84.0</td>\n",
       "      <td>...</td>\n",
       "      <td>11.0</td>\n",
       "      <td>12.0</td>\n",
       "      <td>6.0</td>\n",
       "      <td>8.0</td>\n",
       "      <td>8.0</td>\n",
       "      <td>E. Hazard</td>\n",
       "      <td>Belgium</td>\n",
       "      <td>Chelsea</td>\n",
       "      <td>1</td>\n",
       "      <td>2</td>\n",
       "    </tr>\n",
       "  </tbody>\n",
       "</table>\n",
       "<p>5 rows × 47 columns</p>\n",
       "</div>"
      ],
      "text/plain": [
       "       ID  Age  Overall  Potential         Wage  Special  \\\n",
       "0  158023   31       94         94  565000000.0     2202   \n",
       "1   20801   33       94         94  405000000.0     2228   \n",
       "2  190871   26       92         93  290000000.0     2143   \n",
       "3  192985   27       91         92  355000000.0     2281   \n",
       "4  183277   27       91         91  340000000.0     2142   \n",
       "\n",
       "   International Reputation  Weight  Crossing  Finishing  ...  GKDiving  \\\n",
       "0                       5.0     159      84.0       95.0  ...       6.0   \n",
       "1                       5.0     183      84.0       94.0  ...       7.0   \n",
       "2                       5.0     150      79.0       87.0  ...       9.0   \n",
       "3                       4.0     154      93.0       82.0  ...      15.0   \n",
       "4                       4.0     163      81.0       84.0  ...      11.0   \n",
       "\n",
       "   GKHandling  GKKicking  GKPositioning  GKReflexes               Name  \\\n",
       "0        11.0       15.0           14.0         8.0           L. Messi   \n",
       "1        11.0       15.0           14.0        11.0  Cristiano Ronaldo   \n",
       "2         9.0       15.0           15.0        11.0          Neymar Jr   \n",
       "3        13.0        5.0           10.0        13.0       K. De Bruyne   \n",
       "4        12.0        6.0            8.0         8.0          E. Hazard   \n",
       "\n",
       "   Nationality                 Club  Preferred Foot  Work Rate  \n",
       "0    Argentina         FC Barcelona               2          1  \n",
       "1     Portugal             Juventus               1          6  \n",
       "2       Brazil  Paris Saint-Germain               1          2  \n",
       "3      Belgium      Manchester City               1          4  \n",
       "4      Belgium              Chelsea               1          2  \n",
       "\n",
       "[5 rows x 47 columns]"
      ]
     },
     "execution_count": 16,
     "metadata": {},
     "output_type": "execute_result"
    }
   ],
   "source": [
    "full_dataset.replace(cleanup_nums, inplace=True)\n",
    "full_dataset.head()"
   ]
  },
  {
   "cell_type": "markdown",
   "metadata": {},
   "source": [
    "#### 1.5. Análisis de la dispersión de los datos"
   ]
  },
  {
   "cell_type": "code",
   "execution_count": 17,
   "metadata": {},
   "outputs": [
    {
     "name": "stderr",
     "output_type": "stream",
     "text": [
      "/Users/luciabelmonte/anaconda/lib/python3.6/site-packages/ipykernel_launcher.py:3: UserWarning: To output multiple subplots, the figure containing the passed axes is being cleared\n",
      "  This is separate from the ipykernel package so we can avoid doing imports until\n"
     ]
    },
    {
     "data": {
      "image/png": "[encoded data removed]",
      "text/plain": [
       "<Figure size 1080x1080 with 49 Axes>"
      ]
     },
     "metadata": {},
     "output_type": "display_data"
    }
   ],
   "source": [
    "fig = plt.figure(figsize = (15,15))\n",
    "ax = fig.gca()\n",
    "full_dataset.hist(ax=ax)\n",
    "plt.show()"
   ]
  },
  {
   "cell_type": "markdown",
   "metadata": {},
   "source": [
    "#### 1.6. Eliminar algunas de las columnas"
   ]
  },
  {
   "cell_type": "code",
   "execution_count": 18,
   "metadata": {
    "collapsed": true
   },
   "outputs": [],
   "source": [
    "working_dataset = full_dataset.drop(columns=['ID', 'Name', 'Nationality', 'Club'])"
   ]
  },
  {
   "cell_type": "code",
   "execution_count": 19,
   "metadata": {},
   "outputs": [
    {
     "data": {
      "text/html": [
       "<div>\n",
       "<style scoped>\n",
       "    .dataframe tbody tr th:only-of-type {\n",
       "        vertical-align: middle;\n",
       "    }\n",
       "\n",
       "    .dataframe tbody tr th {\n",
       "        vertical-align: top;\n",
       "    }\n",
       "\n",
       "    .dataframe thead th {\n",
       "        text-align: right;\n",
       "    }\n",
       "</style>\n",
       "<table border=\"1\" class=\"dataframe\">\n",
       "  <thead>\n",
       "    <tr style=\"text-align: right;\">\n",
       "      <th></th>\n",
       "      <th>Age</th>\n",
       "      <th>Overall</th>\n",
       "      <th>Potential</th>\n",
       "      <th>Wage</th>\n",
       "      <th>Special</th>\n",
       "      <th>International Reputation</th>\n",
       "      <th>Weight</th>\n",
       "      <th>Crossing</th>\n",
       "      <th>Finishing</th>\n",
       "      <th>HeadingAccuracy</th>\n",
       "      <th>...</th>\n",
       "      <th>Marking</th>\n",
       "      <th>StandingTackle</th>\n",
       "      <th>SlidingTackle</th>\n",
       "      <th>GKDiving</th>\n",
       "      <th>GKHandling</th>\n",
       "      <th>GKKicking</th>\n",
       "      <th>GKPositioning</th>\n",
       "      <th>GKReflexes</th>\n",
       "      <th>Preferred Foot</th>\n",
       "      <th>Work Rate</th>\n",
       "    </tr>\n",
       "  </thead>\n",
       "  <tbody>\n",
       "    <tr>\n",
       "      <th>0</th>\n",
       "      <td>31</td>\n",
       "      <td>94</td>\n",
       "      <td>94</td>\n",
       "      <td>565000000.0</td>\n",
       "      <td>2202</td>\n",
       "      <td>5.0</td>\n",
       "      <td>159</td>\n",
       "      <td>84.0</td>\n",
       "      <td>95.0</td>\n",
       "      <td>70.0</td>\n",
       "      <td>...</td>\n",
       "      <td>33.0</td>\n",
       "      <td>28.0</td>\n",
       "      <td>26.0</td>\n",
       "      <td>6.0</td>\n",
       "      <td>11.0</td>\n",
       "      <td>15.0</td>\n",
       "      <td>14.0</td>\n",
       "      <td>8.0</td>\n",
       "      <td>2</td>\n",
       "      <td>1</td>\n",
       "    </tr>\n",
       "    <tr>\n",
       "      <th>1</th>\n",
       "      <td>33</td>\n",
       "      <td>94</td>\n",
       "      <td>94</td>\n",
       "      <td>405000000.0</td>\n",
       "      <td>2228</td>\n",
       "      <td>5.0</td>\n",
       "      <td>183</td>\n",
       "      <td>84.0</td>\n",
       "      <td>94.0</td>\n",
       "      <td>89.0</td>\n",
       "      <td>...</td>\n",
       "      <td>28.0</td>\n",
       "      <td>31.0</td>\n",
       "      <td>23.0</td>\n",
       "      <td>7.0</td>\n",
       "      <td>11.0</td>\n",
       "      <td>15.0</td>\n",
       "      <td>14.0</td>\n",
       "      <td>11.0</td>\n",
       "      <td>1</td>\n",
       "      <td>6</td>\n",
       "    </tr>\n",
       "    <tr>\n",
       "      <th>2</th>\n",
       "      <td>26</td>\n",
       "      <td>92</td>\n",
       "      <td>93</td>\n",
       "      <td>290000000.0</td>\n",
       "      <td>2143</td>\n",
       "      <td>5.0</td>\n",
       "      <td>150</td>\n",
       "      <td>79.0</td>\n",
       "      <td>87.0</td>\n",
       "      <td>62.0</td>\n",
       "      <td>...</td>\n",
       "      <td>27.0</td>\n",
       "      <td>24.0</td>\n",
       "      <td>33.0</td>\n",
       "      <td>9.0</td>\n",
       "      <td>9.0</td>\n",
       "      <td>15.0</td>\n",
       "      <td>15.0</td>\n",
       "      <td>11.0</td>\n",
       "      <td>1</td>\n",
       "      <td>2</td>\n",
       "    </tr>\n",
       "    <tr>\n",
       "      <th>3</th>\n",
       "      <td>27</td>\n",
       "      <td>91</td>\n",
       "      <td>92</td>\n",
       "      <td>355000000.0</td>\n",
       "      <td>2281</td>\n",
       "      <td>4.0</td>\n",
       "      <td>154</td>\n",
       "      <td>93.0</td>\n",
       "      <td>82.0</td>\n",
       "      <td>55.0</td>\n",
       "      <td>...</td>\n",
       "      <td>68.0</td>\n",
       "      <td>58.0</td>\n",
       "      <td>51.0</td>\n",
       "      <td>15.0</td>\n",
       "      <td>13.0</td>\n",
       "      <td>5.0</td>\n",
       "      <td>10.0</td>\n",
       "      <td>13.0</td>\n",
       "      <td>1</td>\n",
       "      <td>4</td>\n",
       "    </tr>\n",
       "    <tr>\n",
       "      <th>4</th>\n",
       "      <td>27</td>\n",
       "      <td>91</td>\n",
       "      <td>91</td>\n",
       "      <td>340000000.0</td>\n",
       "      <td>2142</td>\n",
       "      <td>4.0</td>\n",
       "      <td>163</td>\n",
       "      <td>81.0</td>\n",
       "      <td>84.0</td>\n",
       "      <td>61.0</td>\n",
       "      <td>...</td>\n",
       "      <td>34.0</td>\n",
       "      <td>27.0</td>\n",
       "      <td>22.0</td>\n",
       "      <td>11.0</td>\n",
       "      <td>12.0</td>\n",
       "      <td>6.0</td>\n",
       "      <td>8.0</td>\n",
       "      <td>8.0</td>\n",
       "      <td>1</td>\n",
       "      <td>2</td>\n",
       "    </tr>\n",
       "    <tr>\n",
       "      <th>...</th>\n",
       "      <td>...</td>\n",
       "      <td>...</td>\n",
       "      <td>...</td>\n",
       "      <td>...</td>\n",
       "      <td>...</td>\n",
       "      <td>...</td>\n",
       "      <td>...</td>\n",
       "      <td>...</td>\n",
       "      <td>...</td>\n",
       "      <td>...</td>\n",
       "      <td>...</td>\n",
       "      <td>...</td>\n",
       "      <td>...</td>\n",
       "      <td>...</td>\n",
       "      <td>...</td>\n",
       "      <td>...</td>\n",
       "      <td>...</td>\n",
       "      <td>...</td>\n",
       "      <td>...</td>\n",
       "      <td>...</td>\n",
       "      <td>...</td>\n",
       "    </tr>\n",
       "    <tr>\n",
       "      <th>14738</th>\n",
       "      <td>19</td>\n",
       "      <td>47</td>\n",
       "      <td>65</td>\n",
       "      <td>1000000.0</td>\n",
       "      <td>1307</td>\n",
       "      <td>1.0</td>\n",
       "      <td>134</td>\n",
       "      <td>34.0</td>\n",
       "      <td>38.0</td>\n",
       "      <td>40.0</td>\n",
       "      <td>...</td>\n",
       "      <td>40.0</td>\n",
       "      <td>48.0</td>\n",
       "      <td>47.0</td>\n",
       "      <td>10.0</td>\n",
       "      <td>13.0</td>\n",
       "      <td>7.0</td>\n",
       "      <td>8.0</td>\n",
       "      <td>9.0</td>\n",
       "      <td>1</td>\n",
       "      <td>1</td>\n",
       "    </tr>\n",
       "    <tr>\n",
       "      <th>14739</th>\n",
       "      <td>19</td>\n",
       "      <td>47</td>\n",
       "      <td>63</td>\n",
       "      <td>1000000.0</td>\n",
       "      <td>1098</td>\n",
       "      <td>1.0</td>\n",
       "      <td>170</td>\n",
       "      <td>23.0</td>\n",
       "      <td>52.0</td>\n",
       "      <td>52.0</td>\n",
       "      <td>...</td>\n",
       "      <td>22.0</td>\n",
       "      <td>15.0</td>\n",
       "      <td>19.0</td>\n",
       "      <td>10.0</td>\n",
       "      <td>9.0</td>\n",
       "      <td>9.0</td>\n",
       "      <td>5.0</td>\n",
       "      <td>12.0</td>\n",
       "      <td>1</td>\n",
       "      <td>1</td>\n",
       "    </tr>\n",
       "    <tr>\n",
       "      <th>14740</th>\n",
       "      <td>16</td>\n",
       "      <td>47</td>\n",
       "      <td>67</td>\n",
       "      <td>1000000.0</td>\n",
       "      <td>1189</td>\n",
       "      <td>1.0</td>\n",
       "      <td>148</td>\n",
       "      <td>25.0</td>\n",
       "      <td>40.0</td>\n",
       "      <td>46.0</td>\n",
       "      <td>...</td>\n",
       "      <td>32.0</td>\n",
       "      <td>13.0</td>\n",
       "      <td>11.0</td>\n",
       "      <td>6.0</td>\n",
       "      <td>5.0</td>\n",
       "      <td>10.0</td>\n",
       "      <td>6.0</td>\n",
       "      <td>13.0</td>\n",
       "      <td>1</td>\n",
       "      <td>1</td>\n",
       "    </tr>\n",
       "    <tr>\n",
       "      <th>14741</th>\n",
       "      <td>17</td>\n",
       "      <td>47</td>\n",
       "      <td>66</td>\n",
       "      <td>1000000.0</td>\n",
       "      <td>1228</td>\n",
       "      <td>1.0</td>\n",
       "      <td>154</td>\n",
       "      <td>44.0</td>\n",
       "      <td>50.0</td>\n",
       "      <td>39.0</td>\n",
       "      <td>...</td>\n",
       "      <td>20.0</td>\n",
       "      <td>25.0</td>\n",
       "      <td>27.0</td>\n",
       "      <td>14.0</td>\n",
       "      <td>6.0</td>\n",
       "      <td>14.0</td>\n",
       "      <td>8.0</td>\n",
       "      <td>9.0</td>\n",
       "      <td>1</td>\n",
       "      <td>1</td>\n",
       "    </tr>\n",
       "    <tr>\n",
       "      <th>14742</th>\n",
       "      <td>16</td>\n",
       "      <td>46</td>\n",
       "      <td>66</td>\n",
       "      <td>1000000.0</td>\n",
       "      <td>1321</td>\n",
       "      <td>1.0</td>\n",
       "      <td>176</td>\n",
       "      <td>41.0</td>\n",
       "      <td>34.0</td>\n",
       "      <td>46.0</td>\n",
       "      <td>...</td>\n",
       "      <td>40.0</td>\n",
       "      <td>43.0</td>\n",
       "      <td>50.0</td>\n",
       "      <td>10.0</td>\n",
       "      <td>15.0</td>\n",
       "      <td>9.0</td>\n",
       "      <td>12.0</td>\n",
       "      <td>9.0</td>\n",
       "      <td>1</td>\n",
       "      <td>1</td>\n",
       "    </tr>\n",
       "  </tbody>\n",
       "</table>\n",
       "<p>14743 rows × 43 columns</p>\n",
       "</div>"
      ],
      "text/plain": [
       "       Age  Overall  Potential         Wage  Special  \\\n",
       "0       31       94         94  565000000.0     2202   \n",
       "1       33       94         94  405000000.0     2228   \n",
       "2       26       92         93  290000000.0     2143   \n",
       "3       27       91         92  355000000.0     2281   \n",
       "4       27       91         91  340000000.0     2142   \n",
       "...    ...      ...        ...          ...      ...   \n",
       "14738   19       47         65    1000000.0     1307   \n",
       "14739   19       47         63    1000000.0     1098   \n",
       "14740   16       47         67    1000000.0     1189   \n",
       "14741   17       47         66    1000000.0     1228   \n",
       "14742   16       46         66    1000000.0     1321   \n",
       "\n",
       "       International Reputation  Weight  Crossing  Finishing  HeadingAccuracy  \\\n",
       "0                           5.0     159      84.0       95.0             70.0   \n",
       "1                           5.0     183      84.0       94.0             89.0   \n",
       "2                           5.0     150      79.0       87.0             62.0   \n",
       "3                           4.0     154      93.0       82.0             55.0   \n",
       "4                           4.0     163      81.0       84.0             61.0   \n",
       "...                         ...     ...       ...        ...              ...   \n",
       "14738                       1.0     134      34.0       38.0             40.0   \n",
       "14739                       1.0     170      23.0       52.0             52.0   \n",
       "14740                       1.0     148      25.0       40.0             46.0   \n",
       "14741                       1.0     154      44.0       50.0             39.0   \n",
       "14742                       1.0     176      41.0       34.0             46.0   \n",
       "\n",
       "       ...  Marking  StandingTackle  SlidingTackle  GKDiving  GKHandling  \\\n",
       "0      ...     33.0            28.0           26.0       6.0        11.0   \n",
       "1      ...     28.0            31.0           23.0       7.0        11.0   \n",
       "2      ...     27.0            24.0           33.0       9.0         9.0   \n",
       "3      ...     68.0            58.0           51.0      15.0        13.0   \n",
       "4      ...     34.0            27.0           22.0      11.0        12.0   \n",
       "...    ...      ...             ...            ...       ...         ...   \n",
       "14738  ...     40.0            48.0           47.0      10.0        13.0   \n",
       "14739  ...     22.0            15.0           19.0      10.0         9.0   \n",
       "14740  ...     32.0            13.0           11.0       6.0         5.0   \n",
       "14741  ...     20.0            25.0           27.0      14.0         6.0   \n",
       "14742  ...     40.0            43.0           50.0      10.0        15.0   \n",
       "\n",
       "       GKKicking  GKPositioning  GKReflexes  Preferred Foot  Work Rate  \n",
       "0           15.0           14.0         8.0               2          1  \n",
       "1           15.0           14.0        11.0               1          6  \n",
       "2           15.0           15.0        11.0               1          2  \n",
       "3            5.0           10.0        13.0               1          4  \n",
       "4            6.0            8.0         8.0               1          2  \n",
       "...          ...            ...         ...             ...        ...  \n",
       "14738        7.0            8.0         9.0               1          1  \n",
       "14739        9.0            5.0        12.0               1          1  \n",
       "14740       10.0            6.0        13.0               1          1  \n",
       "14741       14.0            8.0         9.0               1          1  \n",
       "14742        9.0           12.0         9.0               1          1  \n",
       "\n",
       "[14743 rows x 43 columns]"
      ]
     },
     "execution_count": 19,
     "metadata": {},
     "output_type": "execute_result"
    }
   ],
   "source": [
    "working_dataset"
   ]
  },
  {
   "cell_type": "markdown",
   "metadata": {},
   "source": [
    "### 2. Selección de características"
   ]
  },
  {
   "cell_type": "markdown",
   "metadata": {},
   "source": [
    "Para la selección de características, he realizado los siguientes pasos:\n",
    "\n",
    "-\tTras el primer análisis exploratorio de la información, he procedido a calcular las correlaciones existentes entre las características, resultando en la existencia de una gran cantidad, por lo que he procedido a eliminar aquellas en las que la correlación fuera igual o mayor de 0.7.\n",
    "\n",
    "\n",
    "-\tHe dividido la base de datos resultante para poder aplicar algoritmos que me pudieran ayudar a determinar la importancia de las características restantes: Linear Regression, Logistic Regression, Random Forest Regressor, Random Forest Classifier, Univariate Selection y Backward Elimination.\n"
   ]
  },
  {
   "cell_type": "markdown",
   "metadata": {},
   "source": [
    "#### 2.1. Correlaciones entre las características"
   ]
  },
  {
   "cell_type": "code",
   "execution_count": 20,
   "metadata": {},
   "outputs": [
    {
     "data": {
      "image/png": "[encoded data removed]",
      "text/plain": [
       "<Figure size 432x288 with 2 Axes>"
      ]
     },
     "metadata": {},
     "output_type": "display_data"
    }
   ],
   "source": [
    "correlations = working_dataset.corr()\n",
    "\n",
    "fig = plt.figure()\n",
    "ax = fig.add_subplot(111)\n",
    "cax = ax.matshow(correlations, vmin=-1, vmax=1)\n",
    "fig.colorbar(cax)\n",
    "ticks = np.arange(0,9,1)\n",
    "ax.set_xticks(ticks)\n",
    "ax.set_yticks(ticks)\n",
    "plt.show()\n"
   ]
  },
  {
   "cell_type": "markdown",
   "metadata": {},
   "source": [
    "#### 2.2. Eliminación de las características altamente correlacionadas ( >= 0.7)"
   ]
  },
  {
   "cell_type": "code",
   "execution_count": 21,
   "metadata": {
    "collapsed": true
   },
   "outputs": [],
   "source": [
    "columns = np.full((correlations.shape[0],), True, dtype=bool)\n",
    "for i in range(correlations.shape[0]):\n",
    "    for j in range(i+1, correlations.shape[0]):\n",
    "        if correlations.iloc[i,j] >= 0.7:\n",
    "            if columns[j]:\n",
    "                columns[j] = False\n",
    "selected_columns = working_dataset.columns[columns]\n",
    "data = working_dataset[selected_columns]"
   ]
  },
  {
   "cell_type": "markdown",
   "metadata": {},
   "source": [
    "#### 2.3 División de la base de datos modificada"
   ]
  },
  {
   "cell_type": "code",
   "execution_count": 22,
   "metadata": {},
   "outputs": [
    {
     "data": {
      "text/html": [
       "<div>\n",
       "<style scoped>\n",
       "    .dataframe tbody tr th:only-of-type {\n",
       "        vertical-align: middle;\n",
       "    }\n",
       "\n",
       "    .dataframe tbody tr th {\n",
       "        vertical-align: top;\n",
       "    }\n",
       "\n",
       "    .dataframe thead th {\n",
       "        text-align: right;\n",
       "    }\n",
       "</style>\n",
       "<table border=\"1\" class=\"dataframe\">\n",
       "  <thead>\n",
       "    <tr style=\"text-align: right;\">\n",
       "      <th></th>\n",
       "      <th>Age</th>\n",
       "      <th>Overall</th>\n",
       "      <th>Potential</th>\n",
       "      <th>Wage</th>\n",
       "      <th>International Reputation</th>\n",
       "      <th>Weight</th>\n",
       "      <th>Finishing</th>\n",
       "      <th>HeadingAccuracy</th>\n",
       "      <th>Acceleration</th>\n",
       "      <th>Jumping</th>\n",
       "      <th>Stamina</th>\n",
       "      <th>Aggression</th>\n",
       "      <th>Interceptions</th>\n",
       "      <th>GKDiving</th>\n",
       "      <th>GKHandling</th>\n",
       "      <th>GKKicking</th>\n",
       "      <th>GKPositioning</th>\n",
       "      <th>GKReflexes</th>\n",
       "      <th>Preferred Foot</th>\n",
       "      <th>Work Rate</th>\n",
       "    </tr>\n",
       "  </thead>\n",
       "  <tbody>\n",
       "    <tr>\n",
       "      <th>0</th>\n",
       "      <td>31</td>\n",
       "      <td>94</td>\n",
       "      <td>94</td>\n",
       "      <td>565000000.0</td>\n",
       "      <td>5.0</td>\n",
       "      <td>159</td>\n",
       "      <td>95.0</td>\n",
       "      <td>70.0</td>\n",
       "      <td>91.0</td>\n",
       "      <td>68.0</td>\n",
       "      <td>72.0</td>\n",
       "      <td>48.0</td>\n",
       "      <td>22.0</td>\n",
       "      <td>6.0</td>\n",
       "      <td>11.0</td>\n",
       "      <td>15.0</td>\n",
       "      <td>14.0</td>\n",
       "      <td>8.0</td>\n",
       "      <td>2</td>\n",
       "      <td>1</td>\n",
       "    </tr>\n",
       "    <tr>\n",
       "      <th>1</th>\n",
       "      <td>33</td>\n",
       "      <td>94</td>\n",
       "      <td>94</td>\n",
       "      <td>405000000.0</td>\n",
       "      <td>5.0</td>\n",
       "      <td>183</td>\n",
       "      <td>94.0</td>\n",
       "      <td>89.0</td>\n",
       "      <td>89.0</td>\n",
       "      <td>95.0</td>\n",
       "      <td>88.0</td>\n",
       "      <td>63.0</td>\n",
       "      <td>29.0</td>\n",
       "      <td>7.0</td>\n",
       "      <td>11.0</td>\n",
       "      <td>15.0</td>\n",
       "      <td>14.0</td>\n",
       "      <td>11.0</td>\n",
       "      <td>1</td>\n",
       "      <td>6</td>\n",
       "    </tr>\n",
       "    <tr>\n",
       "      <th>2</th>\n",
       "      <td>26</td>\n",
       "      <td>92</td>\n",
       "      <td>93</td>\n",
       "      <td>290000000.0</td>\n",
       "      <td>5.0</td>\n",
       "      <td>150</td>\n",
       "      <td>87.0</td>\n",
       "      <td>62.0</td>\n",
       "      <td>94.0</td>\n",
       "      <td>61.0</td>\n",
       "      <td>81.0</td>\n",
       "      <td>56.0</td>\n",
       "      <td>36.0</td>\n",
       "      <td>9.0</td>\n",
       "      <td>9.0</td>\n",
       "      <td>15.0</td>\n",
       "      <td>15.0</td>\n",
       "      <td>11.0</td>\n",
       "      <td>1</td>\n",
       "      <td>2</td>\n",
       "    </tr>\n",
       "    <tr>\n",
       "      <th>3</th>\n",
       "      <td>27</td>\n",
       "      <td>91</td>\n",
       "      <td>92</td>\n",
       "      <td>355000000.0</td>\n",
       "      <td>4.0</td>\n",
       "      <td>154</td>\n",
       "      <td>82.0</td>\n",
       "      <td>55.0</td>\n",
       "      <td>78.0</td>\n",
       "      <td>63.0</td>\n",
       "      <td>90.0</td>\n",
       "      <td>76.0</td>\n",
       "      <td>61.0</td>\n",
       "      <td>15.0</td>\n",
       "      <td>13.0</td>\n",
       "      <td>5.0</td>\n",
       "      <td>10.0</td>\n",
       "      <td>13.0</td>\n",
       "      <td>1</td>\n",
       "      <td>4</td>\n",
       "    </tr>\n",
       "    <tr>\n",
       "      <th>4</th>\n",
       "      <td>27</td>\n",
       "      <td>91</td>\n",
       "      <td>91</td>\n",
       "      <td>340000000.0</td>\n",
       "      <td>4.0</td>\n",
       "      <td>163</td>\n",
       "      <td>84.0</td>\n",
       "      <td>61.0</td>\n",
       "      <td>94.0</td>\n",
       "      <td>56.0</td>\n",
       "      <td>83.0</td>\n",
       "      <td>54.0</td>\n",
       "      <td>41.0</td>\n",
       "      <td>11.0</td>\n",
       "      <td>12.0</td>\n",
       "      <td>6.0</td>\n",
       "      <td>8.0</td>\n",
       "      <td>8.0</td>\n",
       "      <td>1</td>\n",
       "      <td>2</td>\n",
       "    </tr>\n",
       "    <tr>\n",
       "      <th>...</th>\n",
       "      <td>...</td>\n",
       "      <td>...</td>\n",
       "      <td>...</td>\n",
       "      <td>...</td>\n",
       "      <td>...</td>\n",
       "      <td>...</td>\n",
       "      <td>...</td>\n",
       "      <td>...</td>\n",
       "      <td>...</td>\n",
       "      <td>...</td>\n",
       "      <td>...</td>\n",
       "      <td>...</td>\n",
       "      <td>...</td>\n",
       "      <td>...</td>\n",
       "      <td>...</td>\n",
       "      <td>...</td>\n",
       "      <td>...</td>\n",
       "      <td>...</td>\n",
       "      <td>...</td>\n",
       "      <td>...</td>\n",
       "    </tr>\n",
       "    <tr>\n",
       "      <th>14738</th>\n",
       "      <td>19</td>\n",
       "      <td>47</td>\n",
       "      <td>65</td>\n",
       "      <td>1000000.0</td>\n",
       "      <td>1.0</td>\n",
       "      <td>134</td>\n",
       "      <td>38.0</td>\n",
       "      <td>40.0</td>\n",
       "      <td>54.0</td>\n",
       "      <td>55.0</td>\n",
       "      <td>40.0</td>\n",
       "      <td>46.0</td>\n",
       "      <td>46.0</td>\n",
       "      <td>10.0</td>\n",
       "      <td>13.0</td>\n",
       "      <td>7.0</td>\n",
       "      <td>8.0</td>\n",
       "      <td>9.0</td>\n",
       "      <td>1</td>\n",
       "      <td>1</td>\n",
       "    </tr>\n",
       "    <tr>\n",
       "      <th>14739</th>\n",
       "      <td>19</td>\n",
       "      <td>47</td>\n",
       "      <td>63</td>\n",
       "      <td>1000000.0</td>\n",
       "      <td>1.0</td>\n",
       "      <td>170</td>\n",
       "      <td>52.0</td>\n",
       "      <td>52.0</td>\n",
       "      <td>41.0</td>\n",
       "      <td>47.0</td>\n",
       "      <td>43.0</td>\n",
       "      <td>47.0</td>\n",
       "      <td>16.0</td>\n",
       "      <td>10.0</td>\n",
       "      <td>9.0</td>\n",
       "      <td>9.0</td>\n",
       "      <td>5.0</td>\n",
       "      <td>12.0</td>\n",
       "      <td>1</td>\n",
       "      <td>1</td>\n",
       "    </tr>\n",
       "    <tr>\n",
       "      <th>14740</th>\n",
       "      <td>16</td>\n",
       "      <td>47</td>\n",
       "      <td>67</td>\n",
       "      <td>1000000.0</td>\n",
       "      <td>1.0</td>\n",
       "      <td>148</td>\n",
       "      <td>40.0</td>\n",
       "      <td>46.0</td>\n",
       "      <td>70.0</td>\n",
       "      <td>60.0</td>\n",
       "      <td>55.0</td>\n",
       "      <td>32.0</td>\n",
       "      <td>15.0</td>\n",
       "      <td>6.0</td>\n",
       "      <td>5.0</td>\n",
       "      <td>10.0</td>\n",
       "      <td>6.0</td>\n",
       "      <td>13.0</td>\n",
       "      <td>1</td>\n",
       "      <td>1</td>\n",
       "    </tr>\n",
       "    <tr>\n",
       "      <th>14741</th>\n",
       "      <td>17</td>\n",
       "      <td>47</td>\n",
       "      <td>66</td>\n",
       "      <td>1000000.0</td>\n",
       "      <td>1.0</td>\n",
       "      <td>154</td>\n",
       "      <td>50.0</td>\n",
       "      <td>39.0</td>\n",
       "      <td>61.0</td>\n",
       "      <td>42.0</td>\n",
       "      <td>40.0</td>\n",
       "      <td>33.0</td>\n",
       "      <td>22.0</td>\n",
       "      <td>14.0</td>\n",
       "      <td>6.0</td>\n",
       "      <td>14.0</td>\n",
       "      <td>8.0</td>\n",
       "      <td>9.0</td>\n",
       "      <td>1</td>\n",
       "      <td>1</td>\n",
       "    </tr>\n",
       "    <tr>\n",
       "      <th>14742</th>\n",
       "      <td>16</td>\n",
       "      <td>46</td>\n",
       "      <td>66</td>\n",
       "      <td>1000000.0</td>\n",
       "      <td>1.0</td>\n",
       "      <td>176</td>\n",
       "      <td>34.0</td>\n",
       "      <td>46.0</td>\n",
       "      <td>57.0</td>\n",
       "      <td>62.0</td>\n",
       "      <td>47.0</td>\n",
       "      <td>56.0</td>\n",
       "      <td>42.0</td>\n",
       "      <td>10.0</td>\n",
       "      <td>15.0</td>\n",
       "      <td>9.0</td>\n",
       "      <td>12.0</td>\n",
       "      <td>9.0</td>\n",
       "      <td>1</td>\n",
       "      <td>1</td>\n",
       "    </tr>\n",
       "  </tbody>\n",
       "</table>\n",
       "<p>14743 rows × 20 columns</p>\n",
       "</div>"
      ],
      "text/plain": [
       "       Age  Overall  Potential         Wage  International Reputation  Weight  \\\n",
       "0       31       94         94  565000000.0                       5.0     159   \n",
       "1       33       94         94  405000000.0                       5.0     183   \n",
       "2       26       92         93  290000000.0                       5.0     150   \n",
       "3       27       91         92  355000000.0                       4.0     154   \n",
       "4       27       91         91  340000000.0                       4.0     163   \n",
       "...    ...      ...        ...          ...                       ...     ...   \n",
       "14738   19       47         65    1000000.0                       1.0     134   \n",
       "14739   19       47         63    1000000.0                       1.0     170   \n",
       "14740   16       47         67    1000000.0                       1.0     148   \n",
       "14741   17       47         66    1000000.0                       1.0     154   \n",
       "14742   16       46         66    1000000.0                       1.0     176   \n",
       "\n",
       "       Finishing  HeadingAccuracy  Acceleration  Jumping  Stamina  Aggression  \\\n",
       "0           95.0             70.0          91.0     68.0     72.0        48.0   \n",
       "1           94.0             89.0          89.0     95.0     88.0        63.0   \n",
       "2           87.0             62.0          94.0     61.0     81.0        56.0   \n",
       "3           82.0             55.0          78.0     63.0     90.0        76.0   \n",
       "4           84.0             61.0          94.0     56.0     83.0        54.0   \n",
       "...          ...              ...           ...      ...      ...         ...   \n",
       "14738       38.0             40.0          54.0     55.0     40.0        46.0   \n",
       "14739       52.0             52.0          41.0     47.0     43.0        47.0   \n",
       "14740       40.0             46.0          70.0     60.0     55.0        32.0   \n",
       "14741       50.0             39.0          61.0     42.0     40.0        33.0   \n",
       "14742       34.0             46.0          57.0     62.0     47.0        56.0   \n",
       "\n",
       "       Interceptions  GKDiving  GKHandling  GKKicking  GKPositioning  \\\n",
       "0               22.0       6.0        11.0       15.0           14.0   \n",
       "1               29.0       7.0        11.0       15.0           14.0   \n",
       "2               36.0       9.0         9.0       15.0           15.0   \n",
       "3               61.0      15.0        13.0        5.0           10.0   \n",
       "4               41.0      11.0        12.0        6.0            8.0   \n",
       "...              ...       ...         ...        ...            ...   \n",
       "14738           46.0      10.0        13.0        7.0            8.0   \n",
       "14739           16.0      10.0         9.0        9.0            5.0   \n",
       "14740           15.0       6.0         5.0       10.0            6.0   \n",
       "14741           22.0      14.0         6.0       14.0            8.0   \n",
       "14742           42.0      10.0        15.0        9.0           12.0   \n",
       "\n",
       "       GKReflexes  Preferred Foot  Work Rate  \n",
       "0             8.0               2          1  \n",
       "1            11.0               1          6  \n",
       "2            11.0               1          2  \n",
       "3            13.0               1          4  \n",
       "4             8.0               1          2  \n",
       "...           ...             ...        ...  \n",
       "14738         9.0               1          1  \n",
       "14739        12.0               1          1  \n",
       "14740        13.0               1          1  \n",
       "14741         9.0               1          1  \n",
       "14742         9.0               1          1  \n",
       "\n",
       "[14743 rows x 20 columns]"
      ]
     },
     "execution_count": 22,
     "metadata": {},
     "output_type": "execute_result"
    }
   ],
   "source": [
    "data"
   ]
  },
  {
   "cell_type": "code",
   "execution_count": 23,
   "metadata": {
    "collapsed": true
   },
   "outputs": [],
   "source": [
    "X = data.iloc[:,0:19]\n",
    "y = data.iloc[:,19]"
   ]
  },
  {
   "cell_type": "markdown",
   "metadata": {},
   "source": [
    "#### 2.4. Cálculo de la importancia de las características"
   ]
  },
  {
   "cell_type": "code",
   "execution_count": 24,
   "metadata": {},
   "outputs": [
    {
     "name": "stdout",
     "output_type": "stream",
     "text": [
      "Feature: 0, Score: 0.04590\n",
      "Feature: 1, Score: 0.03728\n",
      "Feature: 2, Score: 0.00815\n",
      "Feature: 3, Score: -0.00000\n",
      "Feature: 4, Score: 0.01042\n",
      "Feature: 5, Score: 0.00144\n",
      "Feature: 6, Score: -0.01231\n",
      "Feature: 7, Score: 0.00808\n",
      "Feature: 8, Score: -0.00978\n",
      "Feature: 9, Score: 0.00335\n",
      "Feature: 10, Score: 0.00473\n",
      "Feature: 11, Score: 0.00182\n",
      "Feature: 12, Score: -0.01727\n",
      "Feature: 13, Score: 0.00503\n",
      "Feature: 14, Score: -0.00204\n",
      "Feature: 15, Score: 0.00030\n",
      "Feature: 16, Score: 0.00433\n",
      "Feature: 17, Score: -0.00455\n",
      "Feature: 18, Score: -0.11270\n"
     ]
    },
    {
     "data": {
      "image/png": "[encoded data removed]",
      "text/plain": [
       "<Figure size 432x288 with 1 Axes>"
      ]
     },
     "metadata": {},
     "output_type": "display_data"
    }
   ],
   "source": [
    "model = LinearRegression()\n",
    "\n",
    "model.fit(X, y)\n",
    "\n",
    "importance = model.coef_\n",
    "\n",
    "for i,v in enumerate(importance):\n",
    "    print('Feature: %0d, Score: %.5f' % (i,v))\n",
    "\n",
    "plt.bar([x for x in range(len(importance))], importance)\n",
    "plt.show()"
   ]
  },
  {
   "cell_type": "code",
   "execution_count": 25,
   "metadata": {},
   "outputs": [
    {
     "name": "stdout",
     "output_type": "stream",
     "text": [
      "Feature: 0, Score: 0.00000\n",
      "Feature: 1, Score: 0.00000\n",
      "Feature: 2, Score: 0.00000\n",
      "Feature: 3, Score: 0.00000\n",
      "Feature: 4, Score: 0.00000\n",
      "Feature: 5, Score: 0.00000\n",
      "Feature: 6, Score: 0.00000\n",
      "Feature: 7, Score: 0.00000\n",
      "Feature: 8, Score: 0.00000\n",
      "Feature: 9, Score: 0.00000\n",
      "Feature: 10, Score: 0.00000\n",
      "Feature: 11, Score: 0.00000\n",
      "Feature: 12, Score: 0.00000\n",
      "Feature: 13, Score: 0.00000\n",
      "Feature: 14, Score: 0.00000\n",
      "Feature: 15, Score: 0.00000\n",
      "Feature: 16, Score: 0.00000\n",
      "Feature: 17, Score: 0.00000\n",
      "Feature: 18, Score: 0.00000\n"
     ]
    },
    {
     "data": {
      "image/png": "[encoded data removed]",
      "text/plain": [
       "<Figure size 432x288 with 1 Axes>"
      ]
     },
     "metadata": {},
     "output_type": "display_data"
    }
   ],
   "source": [
    "model = LogisticRegression()\n",
    "\n",
    "model.fit(X, y)\n",
    "\n",
    "importance = model.coef_[0]\n",
    "\n",
    "for i,v in enumerate(importance):\n",
    "    print('Feature: %0d, Score: %.5f' % (i,v))\n",
    "\n",
    "plt.bar([x for x in range(len(importance))], importance)\n",
    "plt.show()"
   ]
  },
  {
   "cell_type": "code",
   "execution_count": 26,
   "metadata": {},
   "outputs": [
    {
     "name": "stdout",
     "output_type": "stream",
     "text": [
      "Feature: 0, Score: 0.05150\n",
      "Feature: 1, Score: 0.04430\n",
      "Feature: 2, Score: 0.04697\n",
      "Feature: 3, Score: 0.04102\n",
      "Feature: 4, Score: 0.00353\n",
      "Feature: 5, Score: 0.06077\n",
      "Feature: 6, Score: 0.07484\n",
      "Feature: 7, Score: 0.07560\n",
      "Feature: 8, Score: 0.07653\n",
      "Feature: 9, Score: 0.06846\n",
      "Feature: 10, Score: 0.07466\n",
      "Feature: 11, Score: 0.07478\n",
      "Feature: 12, Score: 0.06804\n",
      "Feature: 13, Score: 0.04696\n",
      "Feature: 14, Score: 0.04557\n",
      "Feature: 15, Score: 0.04712\n",
      "Feature: 16, Score: 0.04650\n",
      "Feature: 17, Score: 0.04493\n",
      "Feature: 18, Score: 0.00791\n"
     ]
    },
    {
     "data": {
      "image/png": "[encoded data removed]",
      "text/plain": [
       "<Figure size 432x288 with 1 Axes>"
      ]
     },
     "metadata": {},
     "output_type": "display_data"
    }
   ],
   "source": [
    "model = RandomForestRegressor()\n",
    "\n",
    "model.fit(X, y)\n",
    "\n",
    "importance = model.feature_importances_\n",
    "\n",
    "for i,v in enumerate(importance):\n",
    "    print('Feature: %0d, Score: %.5f' % (i,v))\n",
    "\n",
    "plt.bar([x for x in range(len(importance))], importance)\n",
    "plt.show()"
   ]
  },
  {
   "cell_type": "code",
   "execution_count": 27,
   "metadata": {},
   "outputs": [
    {
     "name": "stdout",
     "output_type": "stream",
     "text": [
      "Feature: 0, Score: 0.05021\n",
      "Feature: 1, Score: 0.05194\n",
      "Feature: 2, Score: 0.04944\n",
      "Feature: 3, Score: 0.04488\n",
      "Feature: 4, Score: 0.00515\n",
      "Feature: 5, Score: 0.05614\n",
      "Feature: 6, Score: 0.07405\n",
      "Feature: 7, Score: 0.06084\n",
      "Feature: 8, Score: 0.08282\n",
      "Feature: 9, Score: 0.06251\n",
      "Feature: 10, Score: 0.07673\n",
      "Feature: 11, Score: 0.07259\n",
      "Feature: 12, Score: 0.06965\n",
      "Feature: 13, Score: 0.04741\n",
      "Feature: 14, Score: 0.04614\n",
      "Feature: 15, Score: 0.04618\n",
      "Feature: 16, Score: 0.04658\n",
      "Feature: 17, Score: 0.04583\n",
      "Feature: 18, Score: 0.01090\n"
     ]
    },
    {
     "data": {
      "image/png": "[encoded data removed]",
      "text/plain": [
       "<Figure size 432x288 with 1 Axes>"
      ]
     },
     "metadata": {},
     "output_type": "display_data"
    }
   ],
   "source": [
    "model = RandomForestClassifier()\n",
    "\n",
    "model.fit(X, y)\n",
    "\n",
    "importance = model.feature_importances_\n",
    "\n",
    "for i,v in enumerate(importance):\n",
    "    print('Feature: %0d, Score: %.5f' % (i,v))\n",
    "\n",
    "plt.bar([x for x in range(len(importance))], importance)\n",
    "plt.show()"
   ]
  },
  {
   "cell_type": "markdown",
   "metadata": {},
   "source": [
    "#### 2.5. Selección Univariate de las características"
   ]
  },
  {
   "cell_type": "code",
   "execution_count": 28,
   "metadata": {},
   "outputs": [
    {
     "name": "stdout",
     "output_type": "stream",
     "text": [
      "              Specs         Score\n",
      "3              Wage  2.317436e+10\n",
      "12    Interceptions  2.025041e+04\n",
      "6         Finishing  1.722768e+04\n",
      "11       Aggression  7.135589e+03\n",
      "8      Acceleration  5.248879e+03\n",
      "10          Stamina  3.462718e+03\n",
      "7   HeadingAccuracy  1.749384e+03\n",
      "9           Jumping  8.722423e+02\n",
      "5            Weight  8.283208e+02\n",
      "1           Overall  8.181342e+02\n"
     ]
    }
   ],
   "source": [
    "bestfeatures = SelectKBest(score_func=chi2, k=10)\n",
    "fit = bestfeatures.fit(X,y)\n",
    "dfscores = pd.DataFrame(fit.scores_)\n",
    "dfcolumns = pd.DataFrame(X.columns)\n",
    " \n",
    "featureScores = pd.concat([dfcolumns,dfscores],axis=1)\n",
    "featureScores.columns = ['Specs','Score']  #naming the dataframe columns\n",
    "print(featureScores.nlargest(10,'Score'))  #print 10 best features\n"
   ]
  },
  {
   "cell_type": "markdown",
   "metadata": {},
   "source": [
    "#### 2.6. Selección Backward Elimination de las características"
   ]
  },
  {
   "cell_type": "code",
   "execution_count": 29,
   "metadata": {},
   "outputs": [
    {
     "data": {
      "text/plain": [
       "const                       2.551434e-02\n",
       "Age                         4.363794e-10\n",
       "Overall                     1.032876e-07\n",
       "Potential                   1.922307e-01\n",
       "Wage                        2.767080e-01\n",
       "International Reputation    8.482278e-01\n",
       "Weight                      2.664886e-01\n",
       "Finishing                   1.320282e-16\n",
       "HeadingAccuracy             3.239976e-05\n",
       "Acceleration                1.098849e-07\n",
       "Jumping                     2.684047e-02\n",
       "Stamina                     7.878007e-03\n",
       "Aggression                  2.621124e-01\n",
       "Interceptions               1.002082e-32\n",
       "GKDiving                    3.144449e-01\n",
       "GKHandling                  6.859572e-01\n",
       "GKKicking                   9.509217e-01\n",
       "GKPositioning               3.911070e-01\n",
       "GKReflexes                  3.633950e-01\n",
       "Preferred Foot              1.691220e-03\n",
       "dtype: float64"
      ]
     },
     "execution_count": 29,
     "metadata": {},
     "output_type": "execute_result"
    }
   ],
   "source": [
    "X_1 = sm.add_constant(X)\n",
    "\n",
    "model = sm.OLS(y,X_1).fit()\n",
    "model.pvalues"
   ]
  },
  {
   "cell_type": "code",
   "execution_count": 30,
   "metadata": {},
   "outputs": [
    {
     "name": "stdout",
     "output_type": "stream",
     "text": [
      "['Age', 'Overall', 'Finishing', 'HeadingAccuracy', 'Acceleration', 'Jumping', 'Stamina', 'Interceptions', 'Preferred Foot']\n"
     ]
    }
   ],
   "source": [
    "cols = list(X.columns)\n",
    "pmax = 1\n",
    "while (len(cols)>0):\n",
    "    p= []\n",
    "    X_1 = X[cols]\n",
    "    X_1 = sm.add_constant(X_1)\n",
    "    model = sm.OLS(y,X_1).fit()\n",
    "    p = pd.Series(model.pvalues.values[1:],index = cols)      \n",
    "    pmax = max(p)\n",
    "    feature_with_p_max = p.idxmax()\n",
    "    if(pmax>0.05):\n",
    "        cols.remove(feature_with_p_max)\n",
    "    else:\n",
    "        break\n",
    "selected_features_BE = cols\n",
    "print(selected_features_BE)"
   ]
  },
  {
   "cell_type": "markdown",
   "metadata": {},
   "source": [
    "### 3. Clustering"
   ]
  },
  {
   "cell_type": "markdown",
   "metadata": {},
   "source": [
    "Para realizar el Clustering, he utilizado las distintas variables que he obtenido en la selección de características anterior y he escogido los resultados de los siguientes métodos para aplicarlos utilizando el algoritmo K-Means: Univariate Selection, Backward Selection y Random Forest.\n",
    "\n",
    "-\tPara seleccionar el número ideal de clusters, he utilizado la fórmula WCSS (Within-Cluster Sum of Square).\n",
    "\n",
    "-\t7 clusters en Univariate Selection.\n",
    "\n",
    "-\t12 clusters en Backward Selection.\n",
    "\n",
    "-\t7 clusters en Random Forest.\n"
   ]
  },
  {
   "cell_type": "markdown",
   "metadata": {},
   "source": [
    "#### 3.1. Univariate Selection Clustering"
   ]
  },
  {
   "cell_type": "code",
   "execution_count": 31,
   "metadata": {
    "collapsed": true
   },
   "outputs": [],
   "source": [
    "univariate_selection = data[['Wage', 'Interceptions', 'Finishing', 'Aggression', 'Acceleration', 'Stamina', 'HeadingAccuracy', 'Jumping', 'Weight', 'Overall']].copy()"
   ]
  },
  {
   "cell_type": "code",
   "execution_count": 32,
   "metadata": {
    "collapsed": true
   },
   "outputs": [],
   "source": [
    "data1 = univariate_selection.values[:, 0:35]"
   ]
  },
  {
   "cell_type": "code",
   "execution_count": 33,
   "metadata": {},
   "outputs": [
    {
     "data": {
      "text/plain": [
       "KMeans(n_clusters=3)"
      ]
     },
     "execution_count": 33,
     "metadata": {},
     "output_type": "execute_result"
    }
   ],
   "source": [
    "kmean=KMeans(n_clusters=3)\n",
    "kmean.fit(data1)"
   ]
  },
  {
   "cell_type": "code",
   "execution_count": 34,
   "metadata": {},
   "outputs": [
    {
     "data": {
      "text/plain": [
       "array([[5.19478119e+06, 4.97661886e+01, 4.85260201e+01, 5.88571112e+01,\n",
       "        6.74877292e+01, 6.67575399e+01, 5.62089740e+01, 6.57352158e+01,\n",
       "        1.63759240e+02, 6.53349349e+01],\n",
       "       [1.89314516e+08, 6.33629032e+01, 6.99274194e+01, 7.07419355e+01,\n",
       "        7.53467742e+01, 7.91451613e+01, 6.85000000e+01, 7.20725806e+01,\n",
       "        1.67346774e+02, 8.53225806e+01],\n",
       "       [4.90760770e+07, 5.99569203e+01, 5.99963336e+01, 6.93235564e+01,\n",
       "        7.12923923e+01, 7.38560953e+01, 6.53538038e+01, 6.97442713e+01,\n",
       "        1.67983501e+02, 7.72098992e+01]])"
      ]
     },
     "execution_count": 34,
     "metadata": {},
     "output_type": "execute_result"
    }
   ],
   "source": [
    "kmean.cluster_centers_"
   ]
  },
  {
   "cell_type": "code",
   "execution_count": 35,
   "metadata": {},
   "outputs": [
    {
     "data": {
      "text/plain": [
       "array([1, 1, 1, ..., 0, 0, 0], dtype=int32)"
      ]
     },
     "execution_count": 35,
     "metadata": {},
     "output_type": "execute_result"
    }
   ],
   "source": [
    "kmean.labels_"
   ]
  },
  {
   "cell_type": "code",
   "execution_count": 36,
   "metadata": {},
   "outputs": [
    {
     "name": "stdout",
     "output_type": "stream",
     "text": [
      "Cluster 1 Inertia 7.686610708292248e+18\n",
      "Cluster 2 Inertia 3.209281402121701e+18\n",
      "Cluster 3 Inertia 1.7211706818854566e+18\n",
      "Cluster 4 Inertia 9.949460169919427e+17\n",
      "Cluster 5 Inertia 6.53401252913274e+17\n",
      "Cluster 6 Inertia 4.3542078896700115e+17\n",
      "Cluster 7 Inertia 3.450074796561181e+17\n",
      "Cluster 8 Inertia 2.745474338949726e+17\n",
      "Cluster 9 Inertia 2.095472268693447e+17\n",
      "Cluster 10 Inertia 1.7294768971815773e+17\n",
      "Cluster 11 Inertia 1.4573176491238698e+17\n",
      "Cluster 12 Inertia 1.2114442144287179e+17\n",
      "Cluster 13 Inertia 1.0192482045666595e+17\n",
      "Cluster 14 Inertia 8.647452362043294e+16\n",
      "Cluster 15 Inertia 7.50253972081019e+16\n",
      "Cluster 16 Inertia 6.5818091533851656e+16\n",
      "Cluster 17 Inertia 5.7523039597384584e+16\n",
      "Cluster 18 Inertia 5.061664439513079e+16\n",
      "Cluster 19 Inertia 4.422605248769129e+16\n"
     ]
    },
    {
     "data": {
      "image/png": "[encoded data removed]",
      "text/plain": [
       "<Figure size 432x288 with 1 Axes>"
      ]
     },
     "metadata": {},
     "output_type": "display_data"
    }
   ],
   "source": [
    "wcss = []\n",
    "for i in range(1,20):\n",
    "    kmeans = KMeans(n_clusters=i,init='k-means++',max_iter=300,n_init=10,random_state=0)\n",
    "    kmeans.fit(data1)\n",
    "    wcss.append(kmeans.inertia_)\n",
    "    print('Cluster', i, 'Inertia', kmeans.inertia_)\n",
    "    \n",
    "plt.plot(range(1,20),wcss)\n",
    "plt.title('The Elbow Curve')\n",
    "plt.xlabel('Number of clusters')\n",
    "plt.ylabel('WCSS')\n",
    "plt.show()"
   ]
  },
  {
   "cell_type": "code",
   "execution_count": 37,
   "metadata": {},
   "outputs": [
    {
     "data": {
      "image/png": "[encoded data removed]",
      "text/plain": [
       "<Figure size 432x288 with 1 Axes>"
      ]
     },
     "metadata": {},
     "output_type": "display_data"
    }
   ],
   "source": [
    "# Number of clusters\n",
    "k = 7\n",
    "# Number of training data\n",
    "n = data1.shape[0]\n",
    "# Number of features in the data\n",
    "c = data1.shape[1]\n",
    "\n",
    "# Generate random centers, here we use sigma and mean to ensure it represent the whole data\n",
    "mean = np.mean(data1, axis = 0)\n",
    "std = np.std(data1, axis = 0)\n",
    "centers = np.random.randn(k,c)*std + mean\n",
    "\n",
    "# Plot the data and the centers generated as random\n",
    "for i in range(n):\n",
    "    plt.scatter(data1[i, 0], data1[i,1], s=7)\n",
    "plt.scatter(centers[:,0], centers[:,1], marker='*', c='g', s=150)\n",
    "\n",
    "plt.show()"
   ]
  },
  {
   "cell_type": "markdown",
   "metadata": {},
   "source": [
    "#### 3.2. Backward Selection Clustering"
   ]
  },
  {
   "cell_type": "code",
   "execution_count": 38,
   "metadata": {
    "collapsed": true
   },
   "outputs": [],
   "source": [
    "backward_selection = data[['Age', 'Overall', 'Finishing', 'HeadingAccuracy', 'Acceleration', 'Jumping', 'Stamina', 'Interceptions', 'Preferred Foot']].copy()"
   ]
  },
  {
   "cell_type": "code",
   "execution_count": 39,
   "metadata": {
    "collapsed": true
   },
   "outputs": [],
   "source": [
    "data2 = backward_selection.values[:, 0:35]"
   ]
  },
  {
   "cell_type": "code",
   "execution_count": 40,
   "metadata": {},
   "outputs": [
    {
     "data": {
      "text/plain": [
       "KMeans(n_clusters=3)"
      ]
     },
     "execution_count": 40,
     "metadata": {},
     "output_type": "execute_result"
    }
   ],
   "source": [
    "kmean=KMeans(n_clusters=3)\n",
    "kmean.fit(data2)"
   ]
  },
  {
   "cell_type": "code",
   "execution_count": 41,
   "metadata": {},
   "outputs": [
    {
     "data": {
      "text/plain": [
       "array([[24.56435233, 63.65989637, 30.93284974, 58.98362694, 60.24974093,\n",
       "        66.70445596, 63.9438342 , 60.9065285 ,  1.25160622],\n",
       "       [24.19012486, 65.51248581, 62.35414302, 53.73893303, 72.56583428,\n",
       "        62.93208475, 63.0476731 , 28.90597806,  1.21660991],\n",
       "       [26.74114853, 70.20919689, 54.3462867 , 58.62046632, 70.33873057,\n",
       "        69.03842832, 75.92573402, 64.73143351,  1.27374784]])"
      ]
     },
     "execution_count": 41,
     "metadata": {},
     "output_type": "execute_result"
    }
   ],
   "source": [
    "kmean.cluster_centers_"
   ]
  },
  {
   "cell_type": "code",
   "execution_count": 42,
   "metadata": {},
   "outputs": [
    {
     "data": {
      "text/plain": [
       "array([1, 1, 1, ..., 1, 1, 0], dtype=int32)"
      ]
     },
     "execution_count": 42,
     "metadata": {},
     "output_type": "execute_result"
    }
   ],
   "source": [
    "kmean.labels_"
   ]
  },
  {
   "cell_type": "code",
   "execution_count": 43,
   "metadata": {},
   "outputs": [
    {
     "name": "stdout",
     "output_type": "stream",
     "text": [
      "Cluster 1 Inertia 18007291.68093323\n",
      "Cluster 2 Inertia 12106943.86416955\n",
      "Cluster 3 Inertia 10209103.578645833\n",
      "Cluster 4 Inertia 9046369.461029492\n",
      "Cluster 5 Inertia 8249046.419482061\n",
      "Cluster 6 Inertia 7709870.527652702\n",
      "Cluster 7 Inertia 7289110.908148991\n",
      "Cluster 8 Inertia 6923462.984502861\n",
      "Cluster 9 Inertia 6632572.525461176\n",
      "Cluster 10 Inertia 6364530.13739766\n",
      "Cluster 11 Inertia 6156228.847768099\n",
      "Cluster 12 Inertia 5984959.5140794\n",
      "Cluster 13 Inertia 5827425.379356918\n",
      "Cluster 14 Inertia 5685221.411681267\n",
      "Cluster 15 Inertia 5542786.91572244\n",
      "Cluster 16 Inertia 5413111.798839618\n",
      "Cluster 17 Inertia 5293458.208889355\n",
      "Cluster 18 Inertia 5193901.426626301\n",
      "Cluster 19 Inertia 5089318.806549372\n"
     ]
    },
    {
     "data": {
      "image/png": "[encoded data removed]",
      "text/plain": [
       "<Figure size 432x288 with 1 Axes>"
      ]
     },
     "metadata": {},
     "output_type": "display_data"
    }
   ],
   "source": [
    "wcss = []\n",
    "for i in range(1,20):\n",
    "    kmeans = KMeans(n_clusters=i,init='k-means++',max_iter=300,n_init=10,random_state=0)\n",
    "    kmeans.fit(data2)\n",
    "    wcss.append(kmeans.inertia_)\n",
    "    print('Cluster', i, 'Inertia', kmeans.inertia_)\n",
    "    \n",
    "plt.plot(range(1,20),wcss)\n",
    "plt.title('The Elbow Curve')\n",
    "plt.xlabel('Number of clusters')\n",
    "plt.ylabel('WCSS')\n",
    "plt.show()"
   ]
  },
  {
   "cell_type": "code",
   "execution_count": 44,
   "metadata": {},
   "outputs": [
    {
     "data": {
      "image/png": "[encoded data removed]",
      "text/plain": [
       "<Figure size 432x288 with 1 Axes>"
      ]
     },
     "metadata": {},
     "output_type": "display_data"
    }
   ],
   "source": [
    "# Number of clusters\n",
    "k = 12\n",
    "# Number of training data\n",
    "n = data2.shape[0]\n",
    "# Number of features in the data\n",
    "c = data2.shape[1]\n",
    "\n",
    "# Generate random centers, here we use sigma and mean to ensure it represent the whole data\n",
    "mean = np.mean(data2, axis = 0)\n",
    "std = np.std(data2, axis = 0)\n",
    "centers = np.random.randn(k,c)*std + mean\n",
    "\n",
    "# Plot the data and the centers generated as random\n",
    "for i in range(n):\n",
    "    plt.scatter(data2[i, 0], data2[i,1], s=7)\n",
    "plt.scatter(centers[:,0], centers[:,1], marker='*', c='g', s=150)\n",
    "\n",
    "plt.show()"
   ]
  },
  {
   "cell_type": "markdown",
   "metadata": {},
   "source": [
    "#### 3.3. Selección Random Forest Clustering"
   ]
  },
  {
   "cell_type": "code",
   "execution_count": 45,
   "metadata": {
    "collapsed": true
   },
   "outputs": [],
   "source": [
    "random_forest = data[['Age', 'Overall', 'Potential', 'Wage', 'Weight', 'Finishing', 'HeadingAccuracy', 'Acceleration', 'Jumping', 'Stamina', 'Aggression', 'Interceptions', 'GKDiving', 'GKHandling', 'GKKicking', 'GKPositioning', 'GKReflexes', 'Preferred Foot']].copy()"
   ]
  },
  {
   "cell_type": "code",
   "execution_count": 46,
   "metadata": {
    "collapsed": true
   },
   "outputs": [],
   "source": [
    "data3 = random_forest.values[:, 0:35]"
   ]
  },
  {
   "cell_type": "code",
   "execution_count": 47,
   "metadata": {},
   "outputs": [
    {
     "data": {
      "text/plain": [
       "KMeans(n_clusters=3)"
      ]
     },
     "execution_count": 47,
     "metadata": {},
     "output_type": "execute_result"
    }
   ],
   "source": [
    "kmean=KMeans(n_clusters=3)\n",
    "kmean.fit(data3)"
   ]
  },
  {
   "cell_type": "code",
   "execution_count": 48,
   "metadata": {},
   "outputs": [
    {
     "data": {
      "text/plain": [
       "array([[2.49591987e+01, 6.53728826e+01, 7.05679040e+01, 5.27875976e+06,\n",
       "        1.63766240e+02, 4.85640742e+01, 5.62261747e+01, 6.75054500e+01,\n",
       "        6.57428929e+01, 6.67870820e+01, 5.88838562e+01, 4.98028428e+01,\n",
       "        1.04938135e+01, 1.05531006e+01, 1.05601709e+01, 1.05369716e+01,\n",
       "        1.05092797e+01, 1.24679629e+00],\n",
       "       [2.68411037e+01, 7.73235014e+01, 7.95366318e+01, 5.07535680e+07,\n",
       "        1.68093245e+02, 6.01294006e+01, 6.55413892e+01, 7.12407231e+01,\n",
       "        6.97830637e+01, 7.38715509e+01, 6.95670790e+01, 6.00999049e+01,\n",
       "        1.06793530e+01, 1.06983825e+01, 1.05984776e+01, 1.04804948e+01,\n",
       "        1.05176023e+01, 1.23120837e+00],\n",
       "       [2.76403509e+01, 8.56754386e+01, 8.70701754e+01, 1.95394737e+08,\n",
       "        1.67298246e+02, 7.00701754e+01, 6.90087719e+01, 7.57368421e+01,\n",
       "        7.27631579e+01, 7.90614035e+01, 7.00263158e+01, 6.24473684e+01,\n",
       "        1.00701754e+01, 1.00438596e+01, 1.02543860e+01, 1.00000000e+01,\n",
       "        1.01140351e+01, 1.28947368e+00]])"
      ]
     },
     "execution_count": 48,
     "metadata": {},
     "output_type": "execute_result"
    }
   ],
   "source": [
    "kmean.cluster_centers_"
   ]
  },
  {
   "cell_type": "code",
   "execution_count": 49,
   "metadata": {},
   "outputs": [
    {
     "data": {
      "text/plain": [
       "array([2, 2, 2, ..., 0, 0, 0], dtype=int32)"
      ]
     },
     "execution_count": 49,
     "metadata": {},
     "output_type": "execute_result"
    }
   ],
   "source": [
    "kmean.labels_"
   ]
  },
  {
   "cell_type": "code",
   "execution_count": 50,
   "metadata": {},
   "outputs": [
    {
     "name": "stdout",
     "output_type": "stream",
     "text": [
      "Cluster 1 Inertia 7.686610708293841e+18\n",
      "Cluster 2 Inertia 3.2092814021232067e+18\n",
      "Cluster 3 Inertia 1.7211706818868928e+18\n",
      "Cluster 4 Inertia 9.949460169933624e+17\n",
      "Cluster 5 Inertia 6.534012529146678e+17\n",
      "Cluster 6 Inertia 4.354207889683912e+17\n",
      "Cluster 7 Inertia 3.450074796574924e+17\n",
      "Cluster 8 Inertia 2.745474338963226e+17\n",
      "Cluster 9 Inertia 2.0954722687070218e+17\n",
      "Cluster 10 Inertia 1.729476897195163e+17\n",
      "Cluster 11 Inertia 1.4573176491374592e+17\n",
      "Cluster 12 Inertia 1.2114442144420933e+17\n",
      "Cluster 13 Inertia 1.0192482045800872e+17\n",
      "Cluster 14 Inertia 8.647452362177008e+16\n",
      "Cluster 15 Inertia 7.502539720943749e+16\n",
      "Cluster 16 Inertia 6.581809153518766e+16\n",
      "Cluster 17 Inertia 5.7523039598720056e+16\n",
      "Cluster 18 Inertia 5.061664439646263e+16\n",
      "Cluster 19 Inertia 4.422605248901979e+16\n"
     ]
    },
    {
     "data": {
      "image/png": "[encoded data removed]",
      "text/plain": [
       "<Figure size 432x288 with 1 Axes>"
      ]
     },
     "metadata": {},
     "output_type": "display_data"
    }
   ],
   "source": [
    "wcss = []\n",
    "for i in range(1,20):\n",
    "    kmeans = KMeans(n_clusters=i,init='k-means++',max_iter=300,n_init=10,random_state=0)\n",
    "    kmeans.fit(data3)\n",
    "    wcss.append(kmeans.inertia_)\n",
    "    print('Cluster', i, 'Inertia', kmeans.inertia_)\n",
    "    \n",
    "plt.plot(range(1,20),wcss)\n",
    "plt.title('The Elbow Curve')\n",
    "plt.xlabel('Number of clusters')\n",
    "plt.ylabel('WCSS') ##WCSS stands for total within-cluster sum of square\n",
    "plt.show()"
   ]
  },
  {
   "cell_type": "code",
   "execution_count": 51,
   "metadata": {},
   "outputs": [
    {
     "data": {
      "image/png": "[encoded data removed]",
      "text/plain": [
       "<Figure size 432x288 with 1 Axes>"
      ]
     },
     "metadata": {},
     "output_type": "display_data"
    }
   ],
   "source": [
    "# Number of clusters\n",
    "k = 7\n",
    "# Number of training data\n",
    "n = data3.shape[0]\n",
    "# Number of features in the data\n",
    "c = data3.shape[1]\n",
    "\n",
    "# Generate random centers, here we use sigma and mean to ensure it represent the whole data\n",
    "mean = np.mean(data3, axis = 0)\n",
    "std = np.std(data3, axis = 0)\n",
    "centers = np.random.randn(k,c)*std + mean\n",
    "\n",
    "# Plot the data and the centers generated as random\n",
    "for i in range(n):\n",
    "    plt.scatter(data3[i, 0], data3[i,1], s=7)\n",
    "plt.scatter(centers[:,0], centers[:,1], marker='*', c='g', s=150)\n",
    "\n",
    "plt.show()"
   ]
  },
  {
   "cell_type": "markdown",
   "metadata": {
    "collapsed": true
   },
   "source": [
    "### 4. Conclusiones"
   ]
  },
  {
   "cell_type": "markdown",
   "metadata": {
    "collapsed": true
   },
   "source": [
    "En mi opinión, la clave para que el Clustering funcione correctamente se encuentra en la selección de las características que se incluyan en el modelo de Machine Learning, ya que con ello se evita que haya características redundantes, irrelevantes o correlacionadas entre ellas, así como mejorar la eficiencia del modelo.\n",
    "\n",
    "En este caso, no he podido conseguir una diferenciación clara de clusters. Quizás el modelo más cercano ha podido ser el que he realizado usando Univariate Selection, pero en este caso tampoco se ve una clara diferenciación entre clusters."
   ]
  },
  {
   "cell_type": "code",
   "execution_count": null,
   "metadata": {
    "collapsed": true
   },
   "outputs": [],
   "source": []
  }
 ],
 "metadata": {
  "kernelspec": {
   "display_name": "Python 3",
   "language": "python",
   "name": "python3"
  },
  "language_info": {
   "codemirror_mode": {
    "name": "ipython",
    "version": 3
   },
   "file_extension": ".py",
   "mimetype": "text/x-python",
   "name": "python",
   "nbconvert_exporter": "python",
   "pygments_lexer": "ipython3",
   "version": "3.6.1"
  }
 },
 "nbformat": 4,
 "nbformat_minor": 4
}
